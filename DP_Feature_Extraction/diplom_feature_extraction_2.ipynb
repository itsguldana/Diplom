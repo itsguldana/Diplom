{
 "cells": [
  {
   "cell_type": "code",
   "execution_count": 1,
   "metadata": {
    "id": "qZWi2EEQW80d"
   },
   "outputs": [],
   "source": [
    "import numpy as np\n",
    "import pandas as pd\n",
    "import seaborn as sns\n",
    "import matplotlib.pyplot as plt"
   ]
  },
  {
   "cell_type": "code",
   "execution_count": 2,
   "metadata": {
    "id": "1MV3_19KY_wN"
   },
   "outputs": [],
   "source": [
    "df = pd.read_csv('data.csv',  encoding='UTF-8')"
   ]
  },
  {
   "cell_type": "code",
   "execution_count": 3,
   "metadata": {
    "colab": {
     "base_uri": "https://localhost:8080/",
     "height": 206
    },
    "id": "T-Y-10uCZIwm",
    "outputId": "5c31d972-8598-431c-d766-bc0baab289f5"
   },
   "outputs": [
    {
     "data": {
      "text/html": [
       "<div>\n",
       "<style scoped>\n",
       "    .dataframe tbody tr th:only-of-type {\n",
       "        vertical-align: middle;\n",
       "    }\n",
       "\n",
       "    .dataframe tbody tr th {\n",
       "        vertical-align: top;\n",
       "    }\n",
       "\n",
       "    .dataframe thead th {\n",
       "        text-align: right;\n",
       "    }\n",
       "</style>\n",
       "<table border=\"1\" class=\"dataframe\">\n",
       "  <thead>\n",
       "    <tr style=\"text-align: right;\">\n",
       "      <th></th>\n",
       "      <th>id</th>\n",
       "      <th>video_id</th>\n",
       "      <th>author</th>\n",
       "      <th>text</th>\n",
       "    </tr>\n",
       "  </thead>\n",
       "  <tbody>\n",
       "    <tr>\n",
       "      <th>0</th>\n",
       "      <td>UgygtiZyJIQoKYMr5-14AaABAg</td>\n",
       "      <td>_k-gDXrfu-s</td>\n",
       "      <td>Taki Mizu</td>\n",
       "      <td>Нужно было из града всю толпу поливать﻿</td>\n",
       "    </tr>\n",
       "    <tr>\n",
       "      <th>1</th>\n",
       "      <td>UgxdRnsYt37Ega0lMfJ4AaABAg</td>\n",
       "      <td>_k-gDXrfu-s</td>\n",
       "      <td>Дональд Трамп</td>\n",
       "      <td>Слава Беркуту,спасибо зато, что хотели уберечь...</td>\n",
       "    </tr>\n",
       "    <tr>\n",
       "      <th>2</th>\n",
       "      <td>UgyM1RlUb-cSyMCfGTt4AaABAg</td>\n",
       "      <td>_k-gDXrfu-s</td>\n",
       "      <td>Светлана Агзамова</td>\n",
       "      <td>беркуту позор﻿</td>\n",
       "    </tr>\n",
       "    <tr>\n",
       "      <th>3</th>\n",
       "      <td>Ugy_jfinirWXeqK3f5p4AaABAg</td>\n",
       "      <td>_k-gDXrfu-s</td>\n",
       "      <td>Sonya Nishpal</td>\n",
       "      <td>как можно быть такими жестокими?(! извиняюсь з...</td>\n",
       "    </tr>\n",
       "    <tr>\n",
       "      <th>4</th>\n",
       "      <td>Ugx85dWKg6e-RcpEuv94AaABAg</td>\n",
       "      <td>_k-gDXrfu-s</td>\n",
       "      <td>Bro Rik</td>\n",
       "      <td>в итоге продали свою жопу) за что дохли как со...</td>\n",
       "    </tr>\n",
       "  </tbody>\n",
       "</table>\n",
       "</div>"
      ],
      "text/plain": [
       "                           id     video_id             author  \\\n",
       "0  UgygtiZyJIQoKYMr5-14AaABAg  _k-gDXrfu-s          Taki Mizu   \n",
       "1  UgxdRnsYt37Ega0lMfJ4AaABAg  _k-gDXrfu-s      Дональд Трамп   \n",
       "2  UgyM1RlUb-cSyMCfGTt4AaABAg  _k-gDXrfu-s  Светлана Агзамова   \n",
       "3  Ugy_jfinirWXeqK3f5p4AaABAg  _k-gDXrfu-s      Sonya Nishpal   \n",
       "4  Ugx85dWKg6e-RcpEuv94AaABAg  _k-gDXrfu-s            Bro Rik   \n",
       "\n",
       "                                                text  \n",
       "0            Нужно было из града всю толпу поливать﻿  \n",
       "1  Слава Беркуту,спасибо зато, что хотели уберечь...  \n",
       "2                                     беркуту позор﻿  \n",
       "3  как можно быть такими жестокими?(! извиняюсь з...  \n",
       "4  в итоге продали свою жопу) за что дохли как со...  "
      ]
     },
     "execution_count": 3,
     "metadata": {},
     "output_type": "execute_result"
    }
   ],
   "source": [
    "df.head()"
   ]
  },
  {
   "cell_type": "code",
   "execution_count": 4,
   "metadata": {
    "colab": {
     "base_uri": "https://localhost:8080/"
    },
    "id": "jonptviKZMYi",
    "outputId": "555f9ba9-b590-4213-876a-f11609d6a788"
   },
   "outputs": [
    {
     "data": {
      "text/plain": [
       "id           0\n",
       "video_id     0\n",
       "author       0\n",
       "text        48\n",
       "dtype: int64"
      ]
     },
     "execution_count": 4,
     "metadata": {},
     "output_type": "execute_result"
    }
   ],
   "source": [
    "df.isna().sum()"
   ]
  },
  {
   "cell_type": "code",
   "execution_count": 5,
   "metadata": {
    "id": "5Iw2uoRxZXYS"
   },
   "outputs": [],
   "source": [
    "df = df.drop(['id', 'video_id'], axis=1)"
   ]
  },
  {
   "cell_type": "code",
   "execution_count": 6,
   "metadata": {
    "colab": {
     "base_uri": "https://localhost:8080/",
     "height": 206
    },
    "id": "k7tjF34Ka1W4",
    "outputId": "b0aa29ee-a3f1-4417-ffb1-be61da20efc5"
   },
   "outputs": [
    {
     "data": {
      "text/html": [
       "<div>\n",
       "<style scoped>\n",
       "    .dataframe tbody tr th:only-of-type {\n",
       "        vertical-align: middle;\n",
       "    }\n",
       "\n",
       "    .dataframe tbody tr th {\n",
       "        vertical-align: top;\n",
       "    }\n",
       "\n",
       "    .dataframe thead th {\n",
       "        text-align: right;\n",
       "    }\n",
       "</style>\n",
       "<table border=\"1\" class=\"dataframe\">\n",
       "  <thead>\n",
       "    <tr style=\"text-align: right;\">\n",
       "      <th></th>\n",
       "      <th>author</th>\n",
       "      <th>text</th>\n",
       "    </tr>\n",
       "  </thead>\n",
       "  <tbody>\n",
       "    <tr>\n",
       "      <th>0</th>\n",
       "      <td>Taki Mizu</td>\n",
       "      <td>Нужно было из града всю толпу поливать﻿</td>\n",
       "    </tr>\n",
       "    <tr>\n",
       "      <th>1</th>\n",
       "      <td>Дональд Трамп</td>\n",
       "      <td>Слава Беркуту,спасибо зато, что хотели уберечь...</td>\n",
       "    </tr>\n",
       "    <tr>\n",
       "      <th>2</th>\n",
       "      <td>Светлана Агзамова</td>\n",
       "      <td>беркуту позор﻿</td>\n",
       "    </tr>\n",
       "    <tr>\n",
       "      <th>3</th>\n",
       "      <td>Sonya Nishpal</td>\n",
       "      <td>как можно быть такими жестокими?(! извиняюсь з...</td>\n",
       "    </tr>\n",
       "    <tr>\n",
       "      <th>4</th>\n",
       "      <td>Bro Rik</td>\n",
       "      <td>в итоге продали свою жопу) за что дохли как со...</td>\n",
       "    </tr>\n",
       "  </tbody>\n",
       "</table>\n",
       "</div>"
      ],
      "text/plain": [
       "              author                                               text\n",
       "0          Taki Mizu            Нужно было из града всю толпу поливать﻿\n",
       "1      Дональд Трамп  Слава Беркуту,спасибо зато, что хотели уберечь...\n",
       "2  Светлана Агзамова                                     беркуту позор﻿\n",
       "3      Sonya Nishpal  как можно быть такими жестокими?(! извиняюсь з...\n",
       "4            Bro Rik  в итоге продали свою жопу) за что дохли как со..."
      ]
     },
     "execution_count": 6,
     "metadata": {},
     "output_type": "execute_result"
    }
   ],
   "source": [
    "df.head()"
   ]
  },
  {
   "cell_type": "code",
   "execution_count": 7,
   "metadata": {
    "colab": {
     "base_uri": "https://localhost:8080/",
     "height": 206
    },
    "id": "FLFjjgTOctwh",
    "outputId": "b3d84997-b104-4bc3-de39-1a8d27e63d28"
   },
   "outputs": [
    {
     "data": {
      "text/html": [
       "<div>\n",
       "<style scoped>\n",
       "    .dataframe tbody tr th:only-of-type {\n",
       "        vertical-align: middle;\n",
       "    }\n",
       "\n",
       "    .dataframe tbody tr th {\n",
       "        vertical-align: top;\n",
       "    }\n",
       "\n",
       "    .dataframe thead th {\n",
       "        text-align: right;\n",
       "    }\n",
       "</style>\n",
       "<table border=\"1\" class=\"dataframe\">\n",
       "  <thead>\n",
       "    <tr style=\"text-align: right;\">\n",
       "      <th></th>\n",
       "      <th>author</th>\n",
       "      <th>text</th>\n",
       "    </tr>\n",
       "  </thead>\n",
       "  <tbody>\n",
       "    <tr>\n",
       "      <th>59771</th>\n",
       "      <td>Oleg Bilyk</td>\n",
       "      <td>Согласен по поводу погоды. Очень много лишних ...</td>\n",
       "    </tr>\n",
       "    <tr>\n",
       "      <th>59772</th>\n",
       "      <td>artem Tyshchenko</td>\n",
       "      <td>Все плохо. А могло быть хорошо...﻿</td>\n",
       "    </tr>\n",
       "    <tr>\n",
       "      <th>59773</th>\n",
       "      <td>Roman Eremenko</td>\n",
       "      <td>ахахах\\nне умеете строить эфир, получаете таку...</td>\n",
       "    </tr>\n",
       "    <tr>\n",
       "      <th>59774</th>\n",
       "      <td>andriybalan</td>\n",
       "      <td>Соромно за Новий канал. Та а що ще очікувати в...</td>\n",
       "    </tr>\n",
       "    <tr>\n",
       "      <th>59775</th>\n",
       "      <td>Oleg Bilyk</td>\n",
       "      <td>Що за \"Да ну идите в жопу\"? Гордий дуже?﻿</td>\n",
       "    </tr>\n",
       "  </tbody>\n",
       "</table>\n",
       "</div>"
      ],
      "text/plain": [
       "                 author                                               text\n",
       "59771        Oleg Bilyk  Согласен по поводу погоды. Очень много лишних ...\n",
       "59772  artem Tyshchenko                 Все плохо. А могло быть хорошо...﻿\n",
       "59773    Roman Eremenko  ахахах\\nне умеете строить эфир, получаете таку...\n",
       "59774       andriybalan  Соромно за Новий канал. Та а що ще очікувати в...\n",
       "59775        Oleg Bilyk          Що за \"Да ну идите в жопу\"? Гордий дуже?﻿"
      ]
     },
     "execution_count": 7,
     "metadata": {},
     "output_type": "execute_result"
    }
   ],
   "source": [
    "df.tail()"
   ]
  },
  {
   "cell_type": "code",
   "execution_count": 8,
   "metadata": {
    "colab": {
     "base_uri": "https://localhost:8080/"
    },
    "id": "qqgRumQGcxxc",
    "outputId": "0e13df21-081b-4d8f-e3cf-4466e09868ab"
   },
   "outputs": [
    {
     "data": {
      "text/plain": [
       "<bound method Series.unique of 0                  Нужно было из града всю толпу поливать﻿\n",
       "1        Слава Беркуту,спасибо зато, что хотели уберечь...\n",
       "2                                           беркуту позор﻿\n",
       "3        как можно быть такими жестокими?(! извиняюсь з...\n",
       "4        в итоге продали свою жопу) за что дохли как со...\n",
       "                               ...                        \n",
       "59771    Согласен по поводу погоды. Очень много лишних ...\n",
       "59772                   Все плохо. А могло быть хорошо...﻿\n",
       "59773    ахахах\\nне умеете строить эфир, получаете таку...\n",
       "59774    Соромно за Новий канал. Та а що ще очікувати в...\n",
       "59775            Що за \"Да ну идите в жопу\"? Гордий дуже?﻿\n",
       "Name: text, Length: 59776, dtype: object>"
      ]
     },
     "execution_count": 8,
     "metadata": {},
     "output_type": "execute_result"
    }
   ],
   "source": [
    "df['text'].unique"
   ]
  },
  {
   "cell_type": "code",
   "execution_count": 9,
   "metadata": {
    "id": "xurlS8Nyem67"
   },
   "outputs": [],
   "source": [
    "import string"
   ]
  },
  {
   "cell_type": "code",
   "execution_count": 10,
   "metadata": {
    "colab": {
     "base_uri": "https://localhost:8080/",
     "height": 206
    },
    "id": "0Ue-PVWce0oq",
    "outputId": "29a5c55f-7dae-4070-fbd2-fe87bca122e3"
   },
   "outputs": [
    {
     "data": {
      "text/html": [
       "<div>\n",
       "<style scoped>\n",
       "    .dataframe tbody tr th:only-of-type {\n",
       "        vertical-align: middle;\n",
       "    }\n",
       "\n",
       "    .dataframe tbody tr th {\n",
       "        vertical-align: top;\n",
       "    }\n",
       "\n",
       "    .dataframe thead th {\n",
       "        text-align: right;\n",
       "    }\n",
       "</style>\n",
       "<table border=\"1\" class=\"dataframe\">\n",
       "  <thead>\n",
       "    <tr style=\"text-align: right;\">\n",
       "      <th></th>\n",
       "      <th>author</th>\n",
       "      <th>text</th>\n",
       "    </tr>\n",
       "  </thead>\n",
       "  <tbody>\n",
       "    <tr>\n",
       "      <th>0</th>\n",
       "      <td>Taki Mizu</td>\n",
       "      <td>Нужно было из града всю толпу поливать﻿</td>\n",
       "    </tr>\n",
       "    <tr>\n",
       "      <th>1</th>\n",
       "      <td>Дональд Трамп</td>\n",
       "      <td>Слава Беркуту,спасибо зато, что хотели уберечь...</td>\n",
       "    </tr>\n",
       "    <tr>\n",
       "      <th>2</th>\n",
       "      <td>Светлана Агзамова</td>\n",
       "      <td>беркуту позор﻿</td>\n",
       "    </tr>\n",
       "    <tr>\n",
       "      <th>3</th>\n",
       "      <td>Sonya Nishpal</td>\n",
       "      <td>как можно быть такими жестокими?(! извиняюсь з...</td>\n",
       "    </tr>\n",
       "    <tr>\n",
       "      <th>4</th>\n",
       "      <td>Bro Rik</td>\n",
       "      <td>в итоге продали свою жопу) за что дохли как со...</td>\n",
       "    </tr>\n",
       "  </tbody>\n",
       "</table>\n",
       "</div>"
      ],
      "text/plain": [
       "              author                                               text\n",
       "0          Taki Mizu            Нужно было из града всю толпу поливать﻿\n",
       "1      Дональд Трамп  Слава Беркуту,спасибо зато, что хотели уберечь...\n",
       "2  Светлана Агзамова                                     беркуту позор﻿\n",
       "3      Sonya Nishpal  как можно быть такими жестокими?(! извиняюсь з...\n",
       "4            Bro Rik  в итоге продали свою жопу) за что дохли как со..."
      ]
     },
     "execution_count": 10,
     "metadata": {},
     "output_type": "execute_result"
    }
   ],
   "source": [
    "df.head()"
   ]
  },
  {
   "cell_type": "code",
   "execution_count": 11,
   "metadata": {
    "colab": {
     "base_uri": "https://localhost:8080/"
    },
    "id": "KajWFhWfjSrS",
    "outputId": "a77a8e01-a9c2-4906-f658-bfd81cdb72d7"
   },
   "outputs": [
    {
     "name": "stdout",
     "output_type": "stream",
     "text": [
      "<class 'pandas.core.frame.DataFrame'>\n",
      "RangeIndex: 59776 entries, 0 to 59775\n",
      "Data columns (total 2 columns):\n",
      " #   Column  Non-Null Count  Dtype \n",
      "---  ------  --------------  ----- \n",
      " 0   author  59776 non-null  object\n",
      " 1   text    59728 non-null  object\n",
      "dtypes: object(2)\n",
      "memory usage: 934.1+ KB\n"
     ]
    }
   ],
   "source": [
    "df.info()"
   ]
  },
  {
   "cell_type": "code",
   "execution_count": 12,
   "metadata": {
    "colab": {
     "base_uri": "https://localhost:8080/"
    },
    "id": "z6btZkkLhj4g",
    "outputId": "26c3afb4-b4db-465b-fa91-84399a400f76"
   },
   "outputs": [
    {
     "name": "stderr",
     "output_type": "stream",
     "text": [
      "[nltk_data] Downloading package stopwords to\n",
      "[nltk_data]     C:\\Users\\User\\AppData\\Roaming\\nltk_data...\n",
      "[nltk_data]   Package stopwords is already up-to-date!\n"
     ]
    }
   ],
   "source": [
    "import nltk\n",
    "nltk.download('stopwords')\n",
    "from nltk.corpus import stopwords"
   ]
  },
  {
   "cell_type": "code",
   "execution_count": 13,
   "metadata": {
    "colab": {
     "base_uri": "https://localhost:8080/"
    },
    "id": "gKdBA2ZSh2rf",
    "outputId": "f953110b-0a31-4ac7-c4d6-b6fbf7bb1973"
   },
   "outputs": [
    {
     "name": "stdout",
     "output_type": "stream",
     "text": [
      "['и', 'в', 'во', 'не', 'что', 'он', 'на', 'я', 'с', 'со', 'как', 'а', 'то', 'все', 'она', 'так', 'его', 'но', 'да', 'ты', 'к', 'у', 'же', 'вы', 'за', 'бы', 'по', 'только', 'ее', 'мне', 'было', 'вот', 'от', 'меня', 'еще', 'нет', 'о', 'из', 'ему', 'теперь', 'когда', 'даже', 'ну', 'вдруг', 'ли', 'если', 'уже', 'или', 'ни', 'быть', 'был', 'него', 'до', 'вас', 'нибудь', 'опять', 'уж', 'вам', 'ведь', 'там', 'потом', 'себя', 'ничего', 'ей', 'может', 'они', 'тут', 'где', 'есть', 'надо', 'ней', 'для', 'мы', 'тебя', 'их', 'чем', 'была', 'сам', 'чтоб', 'без', 'будто', 'чего', 'раз', 'тоже', 'себе', 'под', 'будет', 'ж', 'тогда', 'кто', 'этот', 'того', 'потому', 'этого', 'какой', 'совсем', 'ним', 'здесь', 'этом', 'один', 'почти', 'мой', 'тем', 'чтобы', 'нее', 'сейчас', 'были', 'куда', 'зачем', 'всех', 'никогда', 'можно', 'при', 'наконец', 'два', 'об', 'другой', 'хоть', 'после', 'над', 'больше', 'тот', 'через', 'эти', 'нас', 'про', 'всего', 'них', 'какая', 'много', 'разве', 'три', 'эту', 'моя', 'впрочем', 'хорошо', 'свою', 'этой', 'перед', 'иногда', 'лучше', 'чуть', 'том', 'нельзя', 'такой', 'им', 'более', 'всегда', 'конечно', 'всю', 'между']\n"
     ]
    }
   ],
   "source": [
    "print(stopwords.words('russian'))"
   ]
  },
  {
   "cell_type": "code",
   "execution_count": 14,
   "metadata": {
    "colab": {
     "base_uri": "https://localhost:8080/"
    },
    "id": "UyZYKVAblLzQ",
    "outputId": "bc847523-c603-4581-ebb9-812aa192090e"
   },
   "outputs": [
    {
     "name": "stdout",
     "output_type": "stream",
     "text": [
      "<class 'str'>      59728\n",
      "<class 'float'>       48\n",
      "Name: text, dtype: int64\n"
     ]
    }
   ],
   "source": [
    "print(df['text'].apply(type).value_counts())\n"
   ]
  },
  {
   "cell_type": "code",
   "execution_count": 15,
   "metadata": {
    "colab": {
     "base_uri": "https://localhost:8080/"
    },
    "id": "L8zfy03Wkg5g",
    "outputId": "24dd6a3b-69b5-47f5-8a11-82f6f28e666b"
   },
   "outputs": [
    {
     "name": "stdout",
     "output_type": "stream",
     "text": [
      "Defaulting to user installation because normal site-packages is not writeable\n",
      "Requirement already satisfied: stop-words in c:\\users\\user\\appdata\\roaming\\python\\python39\\site-packages (2018.7.23)\n"
     ]
    }
   ],
   "source": [
    "!pip install stop-words\n"
   ]
  },
  {
   "cell_type": "code",
   "execution_count": 16,
   "metadata": {
    "id": "Ok_7iVJdgbpA"
   },
   "outputs": [],
   "source": [
    "import stop_words\n",
    "#stop_words_russian = set(stopwords.words('russian'))\n",
    "stop_words_russian = stop_words.get_stop_words('russian')"
   ]
  },
  {
   "cell_type": "code",
   "execution_count": 17,
   "metadata": {
    "id": "9XQeumC_i2n5"
   },
   "outputs": [],
   "source": [
    "\n",
    "# Convert non-string values to empty string\n",
    "df['text'] = df['text'].apply(lambda x: str(x) if type(x) != str else x)\n",
    "\n",
    "# Remove stop words from the text column\n",
    "df['text'] = df['text'].apply(lambda x: ' '.join([word for word in x.split() if word.lower() not in stop_words_russian]))"
   ]
  },
  {
   "cell_type": "code",
   "execution_count": 18,
   "metadata": {
    "colab": {
     "base_uri": "https://localhost:8080/",
     "height": 206
    },
    "id": "NtCVVMqdlqHV",
    "outputId": "ca05e8d0-9d9f-4b6b-d81f-b5e2a2424396"
   },
   "outputs": [
    {
     "data": {
      "text/html": [
       "<div>\n",
       "<style scoped>\n",
       "    .dataframe tbody tr th:only-of-type {\n",
       "        vertical-align: middle;\n",
       "    }\n",
       "\n",
       "    .dataframe tbody tr th {\n",
       "        vertical-align: top;\n",
       "    }\n",
       "\n",
       "    .dataframe thead th {\n",
       "        text-align: right;\n",
       "    }\n",
       "</style>\n",
       "<table border=\"1\" class=\"dataframe\">\n",
       "  <thead>\n",
       "    <tr style=\"text-align: right;\">\n",
       "      <th></th>\n",
       "      <th>author</th>\n",
       "      <th>text</th>\n",
       "    </tr>\n",
       "  </thead>\n",
       "  <tbody>\n",
       "    <tr>\n",
       "      <th>0</th>\n",
       "      <td>Taki Mizu</td>\n",
       "      <td>града толпу поливать﻿</td>\n",
       "    </tr>\n",
       "    <tr>\n",
       "      <th>1</th>\n",
       "      <td>Дональд Трамп</td>\n",
       "      <td>Слава Беркуту,спасибо зато, хотели уберечь стр...</td>\n",
       "    </tr>\n",
       "    <tr>\n",
       "      <th>2</th>\n",
       "      <td>Светлана Агзамова</td>\n",
       "      <td>беркуту позор﻿</td>\n",
       "    </tr>\n",
       "    <tr>\n",
       "      <th>3</th>\n",
       "      <td>Sonya Nishpal</td>\n",
       "      <td>такими жестокими?(! извиняюсь русский..﻿</td>\n",
       "    </tr>\n",
       "    <tr>\n",
       "      <th>4</th>\n",
       "      <td>Bro Rik</td>\n",
       "      <td>итоге продали жопу) дохли собаки... графа дяку...</td>\n",
       "    </tr>\n",
       "  </tbody>\n",
       "</table>\n",
       "</div>"
      ],
      "text/plain": [
       "              author                                               text\n",
       "0          Taki Mizu                              града толпу поливать﻿\n",
       "1      Дональд Трамп  Слава Беркуту,спасибо зато, хотели уберечь стр...\n",
       "2  Светлана Агзамова                                     беркуту позор﻿\n",
       "3      Sonya Nishpal           такими жестокими?(! извиняюсь русский..﻿\n",
       "4            Bro Rik  итоге продали жопу) дохли собаки... графа дяку..."
      ]
     },
     "execution_count": 18,
     "metadata": {},
     "output_type": "execute_result"
    }
   ],
   "source": [
    "df.head()"
   ]
  },
  {
   "cell_type": "code",
   "execution_count": 19,
   "metadata": {
    "id": "ZDbuLqrhmgTY"
   },
   "outputs": [],
   "source": [
    "# Define a function to convert text to lowercase\n",
    "def convert_to_lower(text):\n",
    "    return text.lower()\n",
    "\n",
    "# Apply the function to the 'text' column of the DataFrame\n",
    "df['text'] = df['text'].apply(convert_to_lower)"
   ]
  },
  {
   "cell_type": "code",
   "execution_count": 20,
   "metadata": {
    "colab": {
     "base_uri": "https://localhost:8080/",
     "height": 520
    },
    "id": "ZZi5-nyOnUGJ",
    "outputId": "f163d6fd-b301-4947-86c0-bcedd8778be5"
   },
   "outputs": [
    {
     "data": {
      "text/html": [
       "<div>\n",
       "<style scoped>\n",
       "    .dataframe tbody tr th:only-of-type {\n",
       "        vertical-align: middle;\n",
       "    }\n",
       "\n",
       "    .dataframe tbody tr th {\n",
       "        vertical-align: top;\n",
       "    }\n",
       "\n",
       "    .dataframe thead th {\n",
       "        text-align: right;\n",
       "    }\n",
       "</style>\n",
       "<table border=\"1\" class=\"dataframe\">\n",
       "  <thead>\n",
       "    <tr style=\"text-align: right;\">\n",
       "      <th></th>\n",
       "      <th>author</th>\n",
       "      <th>text</th>\n",
       "    </tr>\n",
       "  </thead>\n",
       "  <tbody>\n",
       "    <tr>\n",
       "      <th>0</th>\n",
       "      <td>Taki Mizu</td>\n",
       "      <td>града толпу поливать﻿</td>\n",
       "    </tr>\n",
       "    <tr>\n",
       "      <th>1</th>\n",
       "      <td>Дональд Трамп</td>\n",
       "      <td>слава беркуту,спасибо зато, хотели уберечь стр...</td>\n",
       "    </tr>\n",
       "    <tr>\n",
       "      <th>2</th>\n",
       "      <td>Светлана Агзамова</td>\n",
       "      <td>беркуту позор﻿</td>\n",
       "    </tr>\n",
       "    <tr>\n",
       "      <th>3</th>\n",
       "      <td>Sonya Nishpal</td>\n",
       "      <td>такими жестокими?(! извиняюсь русский..﻿</td>\n",
       "    </tr>\n",
       "    <tr>\n",
       "      <th>4</th>\n",
       "      <td>Bro Rik</td>\n",
       "      <td>итоге продали жопу) дохли собаки... графа дяку...</td>\n",
       "    </tr>\n",
       "    <tr>\n",
       "      <th>5</th>\n",
       "      <td>Sayana Teremok</td>\n",
       "      <td>майдан? органы продажу пошли, лес землю втихую...</td>\n",
       "    </tr>\n",
       "    <tr>\n",
       "      <th>6</th>\n",
       "      <td>Diana U</td>\n",
       "      <td>затоту безвиз сиди соси путлера,весь мир ненав...</td>\n",
       "    </tr>\n",
       "    <tr>\n",
       "      <th>7</th>\n",
       "      <td>Panda Pro</td>\n",
       "      <td>нахрена ожног 30 ром ебашить﻿</td>\n",
       "    </tr>\n",
       "    <tr>\n",
       "      <th>8</th>\n",
       "      <td>виктор шкляев</td>\n",
       "      <td>россия 20:18﻿</td>\n",
       "    </tr>\n",
       "    <tr>\n",
       "      <th>9</th>\n",
       "      <td>Scelaborg</td>\n",
       "      <td>поздно стрелять боевыми начали,надо стрелять н...</td>\n",
       "    </tr>\n",
       "    <tr>\n",
       "      <th>10</th>\n",
       "      <td>Garegin Nzhdeh</td>\n",
       "      <td>беркутовцам головы позерать ебеням﻿</td>\n",
       "    </tr>\n",
       "    <tr>\n",
       "      <th>11</th>\n",
       "      <td>LV Citizen</td>\n",
       "      <td>украина встала. армения встаёт. уйдем россии.﻿</td>\n",
       "    </tr>\n",
       "    <tr>\n",
       "      <th>12</th>\n",
       "      <td>Виктор Пахомов</td>\n",
       "      <td>2:57 - ах горит! аж душа радуется))﻿</td>\n",
       "    </tr>\n",
       "    <tr>\n",
       "      <th>13</th>\n",
       "      <td>Виктор Пахомов</td>\n",
       "      <td>готовимся россия, похлеще﻿</td>\n",
       "    </tr>\n",
       "    <tr>\n",
       "      <th>14</th>\n",
       "      <td>Артём art</td>\n",
       "      <td>тупые хохлы , несёте ?вы свергли легитимное пр...</td>\n",
       "    </tr>\n",
       "  </tbody>\n",
       "</table>\n",
       "</div>"
      ],
      "text/plain": [
       "               author                                               text\n",
       "0           Taki Mizu                              града толпу поливать﻿\n",
       "1       Дональд Трамп  слава беркуту,спасибо зато, хотели уберечь стр...\n",
       "2   Светлана Агзамова                                     беркуту позор﻿\n",
       "3       Sonya Nishpal           такими жестокими?(! извиняюсь русский..﻿\n",
       "4             Bro Rik  итоге продали жопу) дохли собаки... графа дяку...\n",
       "5      Sayana Teremok  майдан? органы продажу пошли, лес землю втихую...\n",
       "6             Diana U  затоту безвиз сиди соси путлера,весь мир ненав...\n",
       "7           Panda Pro                      нахрена ожног 30 ром ебашить﻿\n",
       "8       виктор шкляев                                      россия 20:18﻿\n",
       "9           Scelaborg  поздно стрелять боевыми начали,надо стрелять н...\n",
       "10     Garegin Nzhdeh                беркутовцам головы позерать ебеням﻿\n",
       "11         LV Citizen     украина встала. армения встаёт. уйдем россии.﻿\n",
       "12     Виктор Пахомов               2:57 - ах горит! аж душа радуется))﻿\n",
       "13     Виктор Пахомов                         готовимся россия, похлеще﻿\n",
       "14          Артём art  тупые хохлы , несёте ?вы свергли легитимное пр..."
      ]
     },
     "execution_count": 20,
     "metadata": {},
     "output_type": "execute_result"
    }
   ],
   "source": [
    "df.head(15)"
   ]
  },
  {
   "cell_type": "code",
   "execution_count": 21,
   "metadata": {
    "id": "DC3WwRAEnZf9"
   },
   "outputs": [],
   "source": [
    "import re\n",
    "def remove_urls(text):\n",
    "    return re.sub(r'http\\S+', '', text)\n",
    "\n",
    "# Apply the function to the 'text' column of the DataFrame\n",
    "df['text'] = df['text'].apply(remove_urls)"
   ]
  },
  {
   "cell_type": "code",
   "execution_count": 22,
   "metadata": {
    "colab": {
     "base_uri": "https://localhost:8080/",
     "height": 677
    },
    "id": "k12lzCmhoR0p",
    "outputId": "e3fb299f-df45-4390-c668-39e02fc13730"
   },
   "outputs": [
    {
     "data": {
      "text/html": [
       "<div>\n",
       "<style scoped>\n",
       "    .dataframe tbody tr th:only-of-type {\n",
       "        vertical-align: middle;\n",
       "    }\n",
       "\n",
       "    .dataframe tbody tr th {\n",
       "        vertical-align: top;\n",
       "    }\n",
       "\n",
       "    .dataframe thead th {\n",
       "        text-align: right;\n",
       "    }\n",
       "</style>\n",
       "<table border=\"1\" class=\"dataframe\">\n",
       "  <thead>\n",
       "    <tr style=\"text-align: right;\">\n",
       "      <th></th>\n",
       "      <th>author</th>\n",
       "      <th>text</th>\n",
       "    </tr>\n",
       "  </thead>\n",
       "  <tbody>\n",
       "    <tr>\n",
       "      <th>59756</th>\n",
       "      <td>Vladimir Nehaev</td>\n",
       "      <td>майданутые, майданились суки кончиные, крым за...</td>\n",
       "    </tr>\n",
       "    <tr>\n",
       "      <th>59757</th>\n",
       "      <td>Андромеда Галактическая</td>\n",
       "      <td>молодцы! даунутые майданутые, удачно выразился...</td>\n",
       "    </tr>\n",
       "    <tr>\n",
       "      <th>59758</th>\n",
       "      <td>борис нестеров</td>\n",
       "      <td>молодцы! днепропетровску респект!﻿</td>\n",
       "    </tr>\n",
       "    <tr>\n",
       "      <th>59759</th>\n",
       "      <td>Troske27</td>\n",
       "      <td>майданутые дауны!﻿</td>\n",
       "    </tr>\n",
       "    <tr>\n",
       "      <th>59760</th>\n",
       "      <td>Юрій Можарівський - Yuriy Mozharowsky</td>\n",
       "      <td>навіщо було пропонувати співати, якщо потім пе...</td>\n",
       "    </tr>\n",
       "    <tr>\n",
       "      <th>59761</th>\n",
       "      <td>Привет, я Бенджамин!</td>\n",
       "      <td>закончили эфир концов песни, пару слов...ну бл...</td>\n",
       "    </tr>\n",
       "    <tr>\n",
       "      <th>59762</th>\n",
       "      <td>Даша Лапа</td>\n",
       "      <td>дмитрий шуров, правильно сделал!﻿</td>\n",
       "    </tr>\n",
       "    <tr>\n",
       "      <th>59763</th>\n",
       "      <td>96Nastya</td>\n",
       "      <td>переспала, извините, стать ведущей? бездарно.﻿</td>\n",
       "    </tr>\n",
       "    <tr>\n",
       "      <th>59764</th>\n",
       "      <td>Козак Богун</td>\n",
       "      <td>шуров - абсолютна підтримка! дякую пісню, вона...</td>\n",
       "    </tr>\n",
       "    <tr>\n",
       "      <th>59765</th>\n",
       "      <td>ukra AS</td>\n",
       "      <td>жалко девушку, правильно! ﻿</td>\n",
       "    </tr>\n",
       "    <tr>\n",
       "      <th>59766</th>\n",
       "      <td>altrua</td>\n",
       "      <td>пришел интересный человек, чье мнение интересн...</td>\n",
       "    </tr>\n",
       "    <tr>\n",
       "      <th>59767</th>\n",
       "      <td>Алена Снисаревская</td>\n",
       "      <td>капец... выводят таких ведущих? затупливают ? ...</td>\n",
       "    </tr>\n",
       "    <tr>\n",
       "      <th>59768</th>\n",
       "      <td>Иван Михайлюк</td>\n",
       "      <td>шуров - умница!!! стоило прислушаться﻿</td>\n",
       "    </tr>\n",
       "    <tr>\n",
       "      <th>59769</th>\n",
       "      <td>Nadia Belik</td>\n",
       "      <td>эфира позволяло послушать песню полностью, пре...</td>\n",
       "    </tr>\n",
       "    <tr>\n",
       "      <th>59770</th>\n",
       "      <td>ladelailah</td>\n",
       "      <td>косяков стало новом..все интересно, косяков \"у...</td>\n",
       "    </tr>\n",
       "    <tr>\n",
       "      <th>59771</th>\n",
       "      <td>Oleg Bilyk</td>\n",
       "      <td>согласен поводу погоды. лишних движений руками...</td>\n",
       "    </tr>\n",
       "    <tr>\n",
       "      <th>59772</th>\n",
       "      <td>artem Tyshchenko</td>\n",
       "      <td>плохо. могло хорошо...﻿</td>\n",
       "    </tr>\n",
       "    <tr>\n",
       "      <th>59773</th>\n",
       "      <td>Roman Eremenko</td>\n",
       "      <td>ахахах умеете строить эфир, получаете такую ре...</td>\n",
       "    </tr>\n",
       "    <tr>\n",
       "      <th>59774</th>\n",
       "      <td>andriybalan</td>\n",
       "      <td>соромно новий канал. що ще очікувати від украї...</td>\n",
       "    </tr>\n",
       "    <tr>\n",
       "      <th>59775</th>\n",
       "      <td>Oleg Bilyk</td>\n",
       "      <td>що \"да идите жопу\"? гордий дуже?﻿</td>\n",
       "    </tr>\n",
       "  </tbody>\n",
       "</table>\n",
       "</div>"
      ],
      "text/plain": [
       "                                      author  \\\n",
       "59756                        Vladimir Nehaev   \n",
       "59757                Андромеда Галактическая   \n",
       "59758                         борис нестеров   \n",
       "59759                               Troske27   \n",
       "59760  Юрій Можарівський - Yuriy Mozharowsky   \n",
       "59761                   Привет, я Бенджамин!   \n",
       "59762                              Даша Лапа   \n",
       "59763                               96Nastya   \n",
       "59764                            Козак Богун   \n",
       "59765                                ukra AS   \n",
       "59766                                 altrua   \n",
       "59767                     Алена Снисаревская   \n",
       "59768                          Иван Михайлюк   \n",
       "59769                            Nadia Belik   \n",
       "59770                             ladelailah   \n",
       "59771                             Oleg Bilyk   \n",
       "59772                       artem Tyshchenko   \n",
       "59773                         Roman Eremenko   \n",
       "59774                            andriybalan   \n",
       "59775                             Oleg Bilyk   \n",
       "\n",
       "                                                    text  \n",
       "59756  майданутые, майданились суки кончиные, крым за...  \n",
       "59757  молодцы! даунутые майданутые, удачно выразился...  \n",
       "59758                 молодцы! днепропетровску респект!﻿  \n",
       "59759                                 майданутые дауны!﻿  \n",
       "59760  навіщо було пропонувати співати, якщо потім пе...  \n",
       "59761  закончили эфир концов песни, пару слов...ну бл...  \n",
       "59762                  дмитрий шуров, правильно сделал!﻿  \n",
       "59763     переспала, извините, стать ведущей? бездарно.﻿  \n",
       "59764  шуров - абсолютна підтримка! дякую пісню, вона...  \n",
       "59765                        жалко девушку, правильно! ﻿  \n",
       "59766  пришел интересный человек, чье мнение интересн...  \n",
       "59767  капец... выводят таких ведущих? затупливают ? ...  \n",
       "59768             шуров - умница!!! стоило прислушаться﻿  \n",
       "59769  эфира позволяло послушать песню полностью, пре...  \n",
       "59770  косяков стало новом..все интересно, косяков \"у...  \n",
       "59771  согласен поводу погоды. лишних движений руками...  \n",
       "59772                            плохо. могло хорошо...﻿  \n",
       "59773  ахахах умеете строить эфир, получаете такую ре...  \n",
       "59774  соромно новий канал. що ще очікувати від украї...  \n",
       "59775                  що \"да идите жопу\"? гордий дуже?﻿  "
      ]
     },
     "execution_count": 22,
     "metadata": {},
     "output_type": "execute_result"
    }
   ],
   "source": [
    "df.tail(20)"
   ]
  },
  {
   "cell_type": "code",
   "execution_count": 23,
   "metadata": {
    "id": "toSydxQHom5_"
   },
   "outputs": [],
   "source": [
    "\n",
    "\n",
    "# Define a function to remove punctuation and extra spaces from a text string\n",
    "def remove_punct_and_extra_space(text):\n",
    "    # Remove punctuation\n",
    "    text = text.translate(str.maketrans('', '', string.punctuation))\n",
    "    # Remove extra space\n",
    "    text = re.sub(' +', ' ', text)\n",
    "    return text\n",
    "\n",
    "# Apply the function to the 'text' column of the DataFrame\n",
    "df['text'] = df['text'].apply(remove_punct_and_extra_space)\n"
   ]
  },
  {
   "cell_type": "code",
   "execution_count": 24,
   "metadata": {
    "colab": {
     "base_uri": "https://localhost:8080/",
     "height": 520
    },
    "id": "JH_5I671pr1-",
    "outputId": "956c2fa3-8a34-46e0-fe36-8a3d451ff2af"
   },
   "outputs": [
    {
     "data": {
      "text/html": [
       "<div>\n",
       "<style scoped>\n",
       "    .dataframe tbody tr th:only-of-type {\n",
       "        vertical-align: middle;\n",
       "    }\n",
       "\n",
       "    .dataframe tbody tr th {\n",
       "        vertical-align: top;\n",
       "    }\n",
       "\n",
       "    .dataframe thead th {\n",
       "        text-align: right;\n",
       "    }\n",
       "</style>\n",
       "<table border=\"1\" class=\"dataframe\">\n",
       "  <thead>\n",
       "    <tr style=\"text-align: right;\">\n",
       "      <th></th>\n",
       "      <th>author</th>\n",
       "      <th>text</th>\n",
       "    </tr>\n",
       "  </thead>\n",
       "  <tbody>\n",
       "    <tr>\n",
       "      <th>59761</th>\n",
       "      <td>Привет, я Бенджамин!</td>\n",
       "      <td>закончили эфир концов песни пару словну блин о...</td>\n",
       "    </tr>\n",
       "    <tr>\n",
       "      <th>59762</th>\n",
       "      <td>Даша Лапа</td>\n",
       "      <td>дмитрий шуров правильно сделал﻿</td>\n",
       "    </tr>\n",
       "    <tr>\n",
       "      <th>59763</th>\n",
       "      <td>96Nastya</td>\n",
       "      <td>переспала извините стать ведущей бездарно﻿</td>\n",
       "    </tr>\n",
       "    <tr>\n",
       "      <th>59764</th>\n",
       "      <td>Козак Богун</td>\n",
       "      <td>шуров абсолютна підтримка дякую пісню вона чар...</td>\n",
       "    </tr>\n",
       "    <tr>\n",
       "      <th>59765</th>\n",
       "      <td>ukra AS</td>\n",
       "      <td>жалко девушку правильно ﻿</td>\n",
       "    </tr>\n",
       "    <tr>\n",
       "      <th>59766</th>\n",
       "      <td>altrua</td>\n",
       "      <td>пришел интересный человек чье мнение интересно...</td>\n",
       "    </tr>\n",
       "    <tr>\n",
       "      <th>59767</th>\n",
       "      <td>Алена Снисаревская</td>\n",
       "      <td>капец выводят таких ведущих затупливают шурову...</td>\n",
       "    </tr>\n",
       "    <tr>\n",
       "      <th>59768</th>\n",
       "      <td>Иван Михайлюк</td>\n",
       "      <td>шуров умница стоило прислушаться﻿</td>\n",
       "    </tr>\n",
       "    <tr>\n",
       "      <th>59769</th>\n",
       "      <td>Nadia Belik</td>\n",
       "      <td>эфира позволяло послушать песню полностью пред...</td>\n",
       "    </tr>\n",
       "    <tr>\n",
       "      <th>59770</th>\n",
       "      <td>ladelailah</td>\n",
       "      <td>косяков стало новомвсе интересно косяков утре ...</td>\n",
       "    </tr>\n",
       "    <tr>\n",
       "      <th>59771</th>\n",
       "      <td>Oleg Bilyk</td>\n",
       "      <td>согласен поводу погоды лишних движений руками ...</td>\n",
       "    </tr>\n",
       "    <tr>\n",
       "      <th>59772</th>\n",
       "      <td>artem Tyshchenko</td>\n",
       "      <td>плохо могло хорошо﻿</td>\n",
       "    </tr>\n",
       "    <tr>\n",
       "      <th>59773</th>\n",
       "      <td>Roman Eremenko</td>\n",
       "      <td>ахахах умеете строить эфир получаете такую реа...</td>\n",
       "    </tr>\n",
       "    <tr>\n",
       "      <th>59774</th>\n",
       "      <td>andriybalan</td>\n",
       "      <td>соромно новий канал що ще очікувати від україн...</td>\n",
       "    </tr>\n",
       "    <tr>\n",
       "      <th>59775</th>\n",
       "      <td>Oleg Bilyk</td>\n",
       "      <td>що да идите жопу гордий дуже﻿</td>\n",
       "    </tr>\n",
       "  </tbody>\n",
       "</table>\n",
       "</div>"
      ],
      "text/plain": [
       "                     author                                               text\n",
       "59761  Привет, я Бенджамин!  закончили эфир концов песни пару словну блин о...\n",
       "59762             Даша Лапа                    дмитрий шуров правильно сделал﻿\n",
       "59763              96Nastya         переспала извините стать ведущей бездарно﻿\n",
       "59764           Козак Богун  шуров абсолютна підтримка дякую пісню вона чар...\n",
       "59765               ukra AS                          жалко девушку правильно ﻿\n",
       "59766                altrua  пришел интересный человек чье мнение интересно...\n",
       "59767    Алена Снисаревская  капец выводят таких ведущих затупливают шурову...\n",
       "59768         Иван Михайлюк                  шуров умница стоило прислушаться﻿\n",
       "59769           Nadia Belik  эфира позволяло послушать песню полностью пред...\n",
       "59770            ladelailah  косяков стало новомвсе интересно косяков утре ...\n",
       "59771            Oleg Bilyk  согласен поводу погоды лишних движений руками ...\n",
       "59772      artem Tyshchenko                                плохо могло хорошо﻿\n",
       "59773        Roman Eremenko  ахахах умеете строить эфир получаете такую реа...\n",
       "59774           andriybalan  соромно новий канал що ще очікувати від україн...\n",
       "59775            Oleg Bilyk                      що да идите жопу гордий дуже﻿"
      ]
     },
     "execution_count": 24,
     "metadata": {},
     "output_type": "execute_result"
    }
   ],
   "source": [
    "df.tail(15)"
   ]
  },
  {
   "cell_type": "code",
   "execution_count": 25,
   "metadata": {
    "colab": {
     "base_uri": "https://localhost:8080/"
    },
    "id": "HtwTxCRpqQJN",
    "outputId": "7a9c5d07-207a-4044-e945-df79ba904f0c"
   },
   "outputs": [
    {
     "name": "stderr",
     "output_type": "stream",
     "text": [
      "[nltk_data] Downloading package punkt to\n",
      "[nltk_data]     C:\\Users\\User\\AppData\\Roaming\\nltk_data...\n",
      "[nltk_data]   Package punkt is already up-to-date!\n",
      "[nltk_data] Downloading package averaged_perceptron_tagger to\n",
      "[nltk_data]     C:\\Users\\User\\AppData\\Roaming\\nltk_data...\n",
      "[nltk_data]   Unzipping taggers\\averaged_perceptron_tagger.zip.\n",
      "[nltk_data] Downloading package tagsets to\n",
      "[nltk_data]     C:\\Users\\User\\AppData\\Roaming\\nltk_data...\n"
     ]
    },
    {
     "name": "stdout",
     "output_type": "stream",
     "text": [
      "['ах', 'ох', 'эх', 'ай', 'эй', 'ой', 'тағы', 'тағыда', 'әрине', 'жоқ', 'сондай', 'осындай', 'осылай', 'солай', 'мұндай', 'бұндай', 'мен', 'сен', 'ол', 'біз', 'біздер', 'олар', 'сіз', 'сіздер', 'маған', 'оған', 'саған', 'біздің', 'сіздің', 'оның', 'бізге', 'сізге', 'оларға', 'біздерге', 'сіздерге', 'оларға', 'менімен', 'сенімен', 'онымен', 'бізбен', 'сізбен', 'олармен', 'біздермен', 'сіздермен', 'менің', 'сенің', 'біздің', 'сіздің', 'оның', 'біздердің', 'сіздердің', 'олардың', 'маған', 'саған', 'оған', 'менен', 'сенен', 'одан', 'бізден', 'сізден', 'олардан', 'біздерден', 'сіздерден', 'олардан', 'айтпақшы', 'сонымен', 'сондықтан', 'бұл', 'осы', 'сол', 'анау', 'мынау', 'сонау', 'осынау', 'ана', 'мына', 'сона', 'әні', 'міне', 'өй', 'үйт', 'бүйт', 'біреу', 'кейбіреу', 'кейбір', 'қайсыбір', 'әрбір', 'бірнеше', 'бірдеме', 'бірнеше', 'әркім', 'әрне', 'әрқайсы', 'әрқалай', 'әлдекім', 'әлдене', 'әлдеқайдан', 'әлденеше', 'әлдеқалай', 'әлдеқашан', 'алдақашан', 'еш', 'ешкім', 'ешбір', 'ештеме', 'дәнеңе', 'ешқашан', 'ешқандай', 'ешқайсы', 'емес', 'бәрі', 'барлық', 'барша', 'бар', 'күллі', 'бүкіл', 'түгел', 'өз', 'өзім', 'өзің', 'өзінің', 'өзіме', 'өзіне', 'өзімнің', 'өзі', 'өзге', 'менде', 'сенде', 'онда', 'менен', 'сенен\\tонан', 'одан', 'ау', 'па', 'ей', 'әй', 'е', 'уа', 'уау', 'уай', 'я', 'пай', 'ә', 'о', 'оһо', 'ой', 'ие', 'аһа', 'ау', 'беу', 'мәссаған', 'бәрекелді', 'әттегенай', 'жаракімалла', 'масқарай', 'астапыралла', 'япырмай', 'ойпырмай', 'кәне', 'кәнеки', 'ал', 'әйда', 'кәні', 'міне', 'әні', 'сорап', 'қош-қош', 'пфша', 'пішә', 'құрау-құрау', 'шәйт', 'шек', 'моһ', 'тәк', 'құрау', 'құр', 'кә', 'кәһ', 'күшім', 'күшім', 'мышы', 'пырс', 'әукім', 'алақай', 'паһ-паһ', 'бәрекелді', 'ура', 'әттең', 'әттеген-ай', 'қап', 'түге', 'пішту', 'шіркін', 'алатау', 'пай-пай', 'үшін', 'сайын', 'сияқты', 'туралы', 'арқылы', 'бойы', 'бойымен', 'шамалы', 'шақты', 'қаралы', 'ғұрлы', 'ғұрлым', 'шейін', 'дейін', 'қарай', 'таман', 'салым', 'тарта', 'жуық', 'таяу', 'гөрі', 'бері', 'кейін', 'соң', 'бұрын', 'бетер', 'қатар', 'бірге', 'қоса', 'арс', 'гүрс', 'дүрс', 'қорс', 'тарс', 'тырс', 'ырс', 'барқ', 'борт', 'күрт', 'кірт', 'морт', 'сарт', 'шырт', 'дүңк', 'күңк', 'қыңқ', 'мыңқ', 'маңқ', 'саңқ', 'шаңқ', 'шіңк', 'сыңқ', 'таңқ', 'тыңқ', 'ыңқ', 'болп', 'былп', 'жалп', 'желп', 'қолп', 'ірк', 'ырқ', 'сарт-сұрт', 'тарс-тұрс', 'арс-ұрс', 'жалт-жалт', 'жалт-жұлт', 'қалт-қалт', 'қалт-құлт', 'қаңқ-қаңқ', 'қаңқ-құңқ', 'шаңқ-шаңқ', 'шаңқ-шұңқ', 'арбаң-арбаң', 'бүгжең-бүгжең', 'арсалаң-арсалаң', 'ербелең-ербелең', 'батыр-бұтыр', 'далаң-далаң', 'тарбаң-тарбаң', 'қызараң-қызараң', 'қаңғыр-күңгір', 'қайқаң-құйқаң', 'митың-митың', 'салаң-сұлаң', 'ыржың-тыржың', 'бірақ', 'алайда', 'дегенмен', 'әйтпесе', 'әйткенмен', 'себебі', 'өйткені', 'сондықтан', 'үшін', 'сайын', 'сияқты', 'туралы', 'арқылы', 'бойы', 'бойымен', 'шамалы', 'шақты', 'қаралы', 'ғұрлы', 'ғұрлым', 'гөрі', 'бері', 'кейін', 'соң', 'бұрын', 'бетер', 'қатар', 'бірге', 'қоса', 'шейін', 'дейін', 'қарай', 'таман', 'салым', 'тарта', 'жуық', 'таяу', 'арнайы', 'осындай', 'ғана', 'қана', 'тек', 'әншейін']\n"
     ]
    },
    {
     "name": "stderr",
     "output_type": "stream",
     "text": [
      "[nltk_data]   Unzipping help\\tagsets.zip.\n"
     ]
    }
   ],
   "source": [
    "nltk.download('punkt')\n",
    "nltk.download('averaged_perceptron_tagger')\n",
    "nltk.download('tagsets')\n",
    "\n",
    "print(stopwords.words('kazakh'))\n"
   ]
  },
  {
   "cell_type": "code",
   "execution_count": 26,
   "metadata": {
    "id": "cL8BDio-sEUM"
   },
   "outputs": [],
   "source": [
    "# Tokenize the text in the 'text' column\n",
    "df['text_tokenized'] = df['text'].apply(lambda x: nltk.word_tokenize(x))"
   ]
  },
  {
   "cell_type": "code",
   "execution_count": 27,
   "metadata": {
    "colab": {
     "base_uri": "https://localhost:8080/",
     "height": 520
    },
    "id": "0wi9mtxrsKSm",
    "outputId": "1b0689cc-2bd2-4a68-9b28-08d58baacce8"
   },
   "outputs": [
    {
     "data": {
      "text/html": [
       "<div>\n",
       "<style scoped>\n",
       "    .dataframe tbody tr th:only-of-type {\n",
       "        vertical-align: middle;\n",
       "    }\n",
       "\n",
       "    .dataframe tbody tr th {\n",
       "        vertical-align: top;\n",
       "    }\n",
       "\n",
       "    .dataframe thead th {\n",
       "        text-align: right;\n",
       "    }\n",
       "</style>\n",
       "<table border=\"1\" class=\"dataframe\">\n",
       "  <thead>\n",
       "    <tr style=\"text-align: right;\">\n",
       "      <th></th>\n",
       "      <th>author</th>\n",
       "      <th>text</th>\n",
       "      <th>text_tokenized</th>\n",
       "    </tr>\n",
       "  </thead>\n",
       "  <tbody>\n",
       "    <tr>\n",
       "      <th>59761</th>\n",
       "      <td>Привет, я Бенджамин!</td>\n",
       "      <td>закончили эфир концов песни пару словну блин о...</td>\n",
       "      <td>[закончили, эфир, концов, песни, пару, словну,...</td>\n",
       "    </tr>\n",
       "    <tr>\n",
       "      <th>59762</th>\n",
       "      <td>Даша Лапа</td>\n",
       "      <td>дмитрий шуров правильно сделал﻿</td>\n",
       "      <td>[дмитрий, шуров, правильно, сделал﻿]</td>\n",
       "    </tr>\n",
       "    <tr>\n",
       "      <th>59763</th>\n",
       "      <td>96Nastya</td>\n",
       "      <td>переспала извините стать ведущей бездарно﻿</td>\n",
       "      <td>[переспала, извините, стать, ведущей, бездарно﻿]</td>\n",
       "    </tr>\n",
       "    <tr>\n",
       "      <th>59764</th>\n",
       "      <td>Козак Богун</td>\n",
       "      <td>шуров абсолютна підтримка дякую пісню вона чар...</td>\n",
       "      <td>[шуров, абсолютна, підтримка, дякую, пісню, во...</td>\n",
       "    </tr>\n",
       "    <tr>\n",
       "      <th>59765</th>\n",
       "      <td>ukra AS</td>\n",
       "      <td>жалко девушку правильно ﻿</td>\n",
       "      <td>[жалко, девушку, правильно, ﻿]</td>\n",
       "    </tr>\n",
       "    <tr>\n",
       "      <th>59766</th>\n",
       "      <td>altrua</td>\n",
       "      <td>пришел интересный человек чье мнение интересно...</td>\n",
       "      <td>[пришел, интересный, человек, чье, мнение, инт...</td>\n",
       "    </tr>\n",
       "    <tr>\n",
       "      <th>59767</th>\n",
       "      <td>Алена Снисаревская</td>\n",
       "      <td>капец выводят таких ведущих затупливают шурову...</td>\n",
       "      <td>[капец, выводят, таких, ведущих, затупливают, ...</td>\n",
       "    </tr>\n",
       "    <tr>\n",
       "      <th>59768</th>\n",
       "      <td>Иван Михайлюк</td>\n",
       "      <td>шуров умница стоило прислушаться﻿</td>\n",
       "      <td>[шуров, умница, стоило, прислушаться﻿]</td>\n",
       "    </tr>\n",
       "    <tr>\n",
       "      <th>59769</th>\n",
       "      <td>Nadia Belik</td>\n",
       "      <td>эфира позволяло послушать песню полностью пред...</td>\n",
       "      <td>[эфира, позволяло, послушать, песню, полностью...</td>\n",
       "    </tr>\n",
       "    <tr>\n",
       "      <th>59770</th>\n",
       "      <td>ladelailah</td>\n",
       "      <td>косяков стало новомвсе интересно косяков утре ...</td>\n",
       "      <td>[косяков, стало, новомвсе, интересно, косяков,...</td>\n",
       "    </tr>\n",
       "    <tr>\n",
       "      <th>59771</th>\n",
       "      <td>Oleg Bilyk</td>\n",
       "      <td>согласен поводу погоды лишних движений руками ...</td>\n",
       "      <td>[согласен, поводу, погоды, лишних, движений, р...</td>\n",
       "    </tr>\n",
       "    <tr>\n",
       "      <th>59772</th>\n",
       "      <td>artem Tyshchenko</td>\n",
       "      <td>плохо могло хорошо﻿</td>\n",
       "      <td>[плохо, могло, хорошо﻿]</td>\n",
       "    </tr>\n",
       "    <tr>\n",
       "      <th>59773</th>\n",
       "      <td>Roman Eremenko</td>\n",
       "      <td>ахахах умеете строить эфир получаете такую реа...</td>\n",
       "      <td>[ахахах, умеете, строить, эфир, получаете, так...</td>\n",
       "    </tr>\n",
       "    <tr>\n",
       "      <th>59774</th>\n",
       "      <td>andriybalan</td>\n",
       "      <td>соромно новий канал що ще очікувати від україн...</td>\n",
       "      <td>[соромно, новий, канал, що, ще, очікувати, від...</td>\n",
       "    </tr>\n",
       "    <tr>\n",
       "      <th>59775</th>\n",
       "      <td>Oleg Bilyk</td>\n",
       "      <td>що да идите жопу гордий дуже﻿</td>\n",
       "      <td>[що, да, идите, жопу, гордий, дуже﻿]</td>\n",
       "    </tr>\n",
       "  </tbody>\n",
       "</table>\n",
       "</div>"
      ],
      "text/plain": [
       "                     author  \\\n",
       "59761  Привет, я Бенджамин!   \n",
       "59762             Даша Лапа   \n",
       "59763              96Nastya   \n",
       "59764           Козак Богун   \n",
       "59765               ukra AS   \n",
       "59766                altrua   \n",
       "59767    Алена Снисаревская   \n",
       "59768         Иван Михайлюк   \n",
       "59769           Nadia Belik   \n",
       "59770            ladelailah   \n",
       "59771            Oleg Bilyk   \n",
       "59772      artem Tyshchenko   \n",
       "59773        Roman Eremenko   \n",
       "59774           andriybalan   \n",
       "59775            Oleg Bilyk   \n",
       "\n",
       "                                                    text  \\\n",
       "59761  закончили эфир концов песни пару словну блин о...   \n",
       "59762                    дмитрий шуров правильно сделал﻿   \n",
       "59763         переспала извините стать ведущей бездарно﻿   \n",
       "59764  шуров абсолютна підтримка дякую пісню вона чар...   \n",
       "59765                          жалко девушку правильно ﻿   \n",
       "59766  пришел интересный человек чье мнение интересно...   \n",
       "59767  капец выводят таких ведущих затупливают шурову...   \n",
       "59768                  шуров умница стоило прислушаться﻿   \n",
       "59769  эфира позволяло послушать песню полностью пред...   \n",
       "59770  косяков стало новомвсе интересно косяков утре ...   \n",
       "59771  согласен поводу погоды лишних движений руками ...   \n",
       "59772                                плохо могло хорошо﻿   \n",
       "59773  ахахах умеете строить эфир получаете такую реа...   \n",
       "59774  соромно новий канал що ще очікувати від україн...   \n",
       "59775                      що да идите жопу гордий дуже﻿   \n",
       "\n",
       "                                          text_tokenized  \n",
       "59761  [закончили, эфир, концов, песни, пару, словну,...  \n",
       "59762               [дмитрий, шуров, правильно, сделал﻿]  \n",
       "59763   [переспала, извините, стать, ведущей, бездарно﻿]  \n",
       "59764  [шуров, абсолютна, підтримка, дякую, пісню, во...  \n",
       "59765                     [жалко, девушку, правильно, ﻿]  \n",
       "59766  [пришел, интересный, человек, чье, мнение, инт...  \n",
       "59767  [капец, выводят, таких, ведущих, затупливают, ...  \n",
       "59768             [шуров, умница, стоило, прислушаться﻿]  \n",
       "59769  [эфира, позволяло, послушать, песню, полностью...  \n",
       "59770  [косяков, стало, новомвсе, интересно, косяков,...  \n",
       "59771  [согласен, поводу, погоды, лишних, движений, р...  \n",
       "59772                            [плохо, могло, хорошо﻿]  \n",
       "59773  [ахахах, умеете, строить, эфир, получаете, так...  \n",
       "59774  [соромно, новий, канал, що, ще, очікувати, від...  \n",
       "59775               [що, да, идите, жопу, гордий, дуже﻿]  "
      ]
     },
     "execution_count": 27,
     "metadata": {},
     "output_type": "execute_result"
    }
   ],
   "source": [
    "df.tail(15)"
   ]
  },
  {
   "cell_type": "code",
   "execution_count": 28,
   "metadata": {
    "colab": {
     "base_uri": "https://localhost:8080/"
    },
    "id": "Kt3GzSVsmN1O",
    "outputId": "b695a0e4-3780-4498-921e-0f67df9342e4"
   },
   "outputs": [
    {
     "name": "stderr",
     "output_type": "stream",
     "text": [
      "[nltk_data] Downloading package wordnet to\n",
      "[nltk_data]     C:\\Users\\User\\AppData\\Roaming\\nltk_data...\n",
      "[nltk_data]   Package wordnet is already up-to-date!\n",
      "[nltk_data] Downloading package omw-1.4 to\n",
      "[nltk_data]     C:\\Users\\User\\AppData\\Roaming\\nltk_data...\n",
      "[nltk_data]   Package omw-1.4 is already up-to-date!\n"
     ]
    }
   ],
   "source": [
    "from nltk.stem import WordNetLemmatizer\n",
    "nltk.download('wordnet')\n",
    "nltk.download('omw-1.4')\n",
    "lemmatizer = WordNetLemmatizer()\n",
    "\n",
    "# Define a function to perform lemmatization\n",
    "def lemmatize_text(text):\n",
    "    # Tokenize the text\n",
    "    tokens = nltk.word_tokenize(text)\n",
    "    # Apply lemmatization to each token\n",
    "    lemmatized_tokens = [lemmatizer.lemmatize(token) for token in tokens]\n",
    "    # Join the lemmatized tokens back into a single string\n",
    "    lemmatized_text = ' '.join(lemmatized_tokens)\n",
    "    return lemmatized_text\n",
    "\n",
    "# Apply the lemmatize_text function to the 'text' column\n",
    "df['text_lemmatized'] = df['text'].apply(lemmatize_text)\n",
    "\n",
    "# Save the updated dataset\n",
    "df.to_csv('AbusiveLanguageDataset_lemmatized.csv', index=False)"
   ]
  },
  {
   "cell_type": "code",
   "execution_count": 29,
   "metadata": {
    "id": "jCqCYgMsqNkw"
   },
   "outputs": [],
   "source": [
    "df2 = pd.read_csv('AbusiveLanguageDataset_lemmatized.csv',  encoding='UTF-8')"
   ]
  },
  {
   "cell_type": "code",
   "execution_count": 30,
   "metadata": {
    "colab": {
     "base_uri": "https://localhost:8080/",
     "height": 206
    },
    "id": "R1r8oKXEqYSQ",
    "outputId": "96202551-f2a5-425b-fd23-6c2c5140c39b"
   },
   "outputs": [
    {
     "data": {
      "text/html": [
       "<div>\n",
       "<style scoped>\n",
       "    .dataframe tbody tr th:only-of-type {\n",
       "        vertical-align: middle;\n",
       "    }\n",
       "\n",
       "    .dataframe tbody tr th {\n",
       "        vertical-align: top;\n",
       "    }\n",
       "\n",
       "    .dataframe thead th {\n",
       "        text-align: right;\n",
       "    }\n",
       "</style>\n",
       "<table border=\"1\" class=\"dataframe\">\n",
       "  <thead>\n",
       "    <tr style=\"text-align: right;\">\n",
       "      <th></th>\n",
       "      <th>author</th>\n",
       "      <th>text</th>\n",
       "      <th>text_tokenized</th>\n",
       "      <th>text_lemmatized</th>\n",
       "    </tr>\n",
       "  </thead>\n",
       "  <tbody>\n",
       "    <tr>\n",
       "      <th>0</th>\n",
       "      <td>Taki Mizu</td>\n",
       "      <td>града толпу поливать﻿</td>\n",
       "      <td>['града', 'толпу', 'поливать\\ufeff']</td>\n",
       "      <td>града толпу поливать﻿</td>\n",
       "    </tr>\n",
       "    <tr>\n",
       "      <th>1</th>\n",
       "      <td>Дональд Трамп</td>\n",
       "      <td>слава беркутуспасибо зато хотели уберечь страну﻿</td>\n",
       "      <td>['слава', 'беркутуспасибо', 'зато', 'хотели', ...</td>\n",
       "      <td>слава беркутуспасибо зато хотели уберечь страну﻿</td>\n",
       "    </tr>\n",
       "    <tr>\n",
       "      <th>2</th>\n",
       "      <td>Светлана Агзамова</td>\n",
       "      <td>беркуту позор﻿</td>\n",
       "      <td>['беркуту', 'позор\\ufeff']</td>\n",
       "      <td>беркуту позор﻿</td>\n",
       "    </tr>\n",
       "    <tr>\n",
       "      <th>3</th>\n",
       "      <td>Sonya Nishpal</td>\n",
       "      <td>такими жестокими извиняюсь русский﻿</td>\n",
       "      <td>['такими', 'жестокими', 'извиняюсь', 'русский\\...</td>\n",
       "      <td>такими жестокими извиняюсь русский﻿</td>\n",
       "    </tr>\n",
       "    <tr>\n",
       "      <th>4</th>\n",
       "      <td>Bro Rik</td>\n",
       "      <td>итоге продали жопу дохли собаки графа дякуло﻿</td>\n",
       "      <td>['итоге', 'продали', 'жопу', 'дохли', 'собаки'...</td>\n",
       "      <td>итоге продали жопу дохли собаки графа дякуло﻿</td>\n",
       "    </tr>\n",
       "  </tbody>\n",
       "</table>\n",
       "</div>"
      ],
      "text/plain": [
       "              author                                              text  \\\n",
       "0          Taki Mizu                             града толпу поливать﻿   \n",
       "1      Дональд Трамп  слава беркутуспасибо зато хотели уберечь страну﻿   \n",
       "2  Светлана Агзамова                                    беркуту позор﻿   \n",
       "3      Sonya Nishpal               такими жестокими извиняюсь русский﻿   \n",
       "4            Bro Rik     итоге продали жопу дохли собаки графа дякуло﻿   \n",
       "\n",
       "                                      text_tokenized  \\\n",
       "0               ['града', 'толпу', 'поливать\\ufeff']   \n",
       "1  ['слава', 'беркутуспасибо', 'зато', 'хотели', ...   \n",
       "2                         ['беркуту', 'позор\\ufeff']   \n",
       "3  ['такими', 'жестокими', 'извиняюсь', 'русский\\...   \n",
       "4  ['итоге', 'продали', 'жопу', 'дохли', 'собаки'...   \n",
       "\n",
       "                                    text_lemmatized  \n",
       "0                             града толпу поливать﻿  \n",
       "1  слава беркутуспасибо зато хотели уберечь страну﻿  \n",
       "2                                    беркуту позор﻿  \n",
       "3               такими жестокими извиняюсь русский﻿  \n",
       "4     итоге продали жопу дохли собаки графа дякуло﻿  "
      ]
     },
     "execution_count": 30,
     "metadata": {},
     "output_type": "execute_result"
    }
   ],
   "source": [
    "df2.head()"
   ]
  },
  {
   "cell_type": "code",
   "execution_count": null,
   "metadata": {},
   "outputs": [],
   "source": []
  }
 ],
 "metadata": {
  "colab": {
   "provenance": []
  },
  "kernelspec": {
   "display_name": "Python 3 (ipykernel)",
   "language": "python",
   "name": "python3"
  },
  "language_info": {
   "codemirror_mode": {
    "name": "ipython",
    "version": 3
   },
   "file_extension": ".py",
   "mimetype": "text/x-python",
   "name": "python",
   "nbconvert_exporter": "python",
   "pygments_lexer": "ipython3",
   "version": "3.9.13"
  }
 },
 "nbformat": 4,
 "nbformat_minor": 1
}
