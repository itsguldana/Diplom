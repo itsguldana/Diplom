{
 "cells": [
  {
   "cell_type": "code",
   "execution_count": 1,
   "metadata": {
    "id": "qZWi2EEQW80d"
   },
   "outputs": [],
   "source": [
    "import numpy as np\n",
    "import pandas as pd\n",
    "import seaborn as sns\n",
    "import matplotlib.pyplot as plt"
   ]
  },
  {
   "cell_type": "code",
   "execution_count": 2,
   "metadata": {
    "id": "1MV3_19KY_wN"
   },
   "outputs": [],
   "source": [
    "df = pd.read_csv('df1.csv',  encoding='UTF-8')"
   ]
  },
  {
   "cell_type": "code",
   "execution_count": 3,
   "metadata": {
    "colab": {
     "base_uri": "https://localhost:8080/",
     "height": 206
    },
    "id": "T-Y-10uCZIwm",
    "outputId": "5c31d972-8598-431c-d766-bc0baab289f5"
   },
   "outputs": [
    {
     "data": {
      "text/html": [
       "<div>\n",
       "<style scoped>\n",
       "    .dataframe tbody tr th:only-of-type {\n",
       "        vertical-align: middle;\n",
       "    }\n",
       "\n",
       "    .dataframe tbody tr th {\n",
       "        vertical-align: top;\n",
       "    }\n",
       "\n",
       "    .dataframe thead th {\n",
       "        text-align: right;\n",
       "    }\n",
       "</style>\n",
       "<table border=\"1\" class=\"dataframe\">\n",
       "  <thead>\n",
       "    <tr style=\"text-align: right;\">\n",
       "      <th></th>\n",
       "      <th>id</th>\n",
       "      <th>text</th>\n",
       "      <th>label</th>\n",
       "    </tr>\n",
       "  </thead>\n",
       "  <tbody>\n",
       "    <tr>\n",
       "      <th>0</th>\n",
       "      <td>1</td>\n",
       "      <td>всем холодный душ из водомётов и не одного евр...</td>\n",
       "      <td>1.0</td>\n",
       "    </tr>\n",
       "    <tr>\n",
       "      <th>1</th>\n",
       "      <td>2</td>\n",
       "      <td>я поляк я люблю тебе</td>\n",
       "      <td>0.0</td>\n",
       "    </tr>\n",
       "    <tr>\n",
       "      <th>2</th>\n",
       "      <td>3</td>\n",
       "      <td>автор хуй из рта вытащи беркут герои</td>\n",
       "      <td>1.0</td>\n",
       "    </tr>\n",
       "    <tr>\n",
       "      <th>3</th>\n",
       "      <td>4</td>\n",
       "      <td>позор януковичу не замочил майданщиков продажн...</td>\n",
       "      <td>1.0</td>\n",
       "    </tr>\n",
       "    <tr>\n",
       "      <th>4</th>\n",
       "      <td>5</td>\n",
       "      <td>легче всего обвинять россию</td>\n",
       "      <td>0.0</td>\n",
       "    </tr>\n",
       "  </tbody>\n",
       "</table>\n",
       "</div>"
      ],
      "text/plain": [
       "   id                                               text  label\n",
       "0   1  всем холодный душ из водомётов и не одного евр...    1.0\n",
       "1   2                              я поляк я люблю тебе     0.0\n",
       "2   3              автор хуй из рта вытащи беркут герои     1.0\n",
       "3   4  позор януковичу не замочил майданщиков продажн...    1.0\n",
       "4   5                       легче всего обвинять россию     0.0"
      ]
     },
     "execution_count": 3,
     "metadata": {},
     "output_type": "execute_result"
    }
   ],
   "source": [
    "df.head()"
   ]
  },
  {
   "cell_type": "code",
   "execution_count": 4,
   "metadata": {
    "colab": {
     "base_uri": "https://localhost:8080/"
    },
    "id": "jonptviKZMYi",
    "outputId": "555f9ba9-b590-4213-876a-f11609d6a788"
   },
   "outputs": [
    {
     "data": {
      "text/plain": [
       "id       0\n",
       "text     0\n",
       "label    0\n",
       "dtype: int64"
      ]
     },
     "execution_count": 4,
     "metadata": {},
     "output_type": "execute_result"
    }
   ],
   "source": [
    "df.isna().sum()"
   ]
  },
  {
   "cell_type": "code",
   "execution_count": null,
   "metadata": {
    "id": "5Iw2uoRxZXYS"
   },
   "outputs": [],
   "source": []
  },
  {
   "cell_type": "code",
   "execution_count": 5,
   "metadata": {
    "colab": {
     "base_uri": "https://localhost:8080/",
     "height": 206
    },
    "id": "k7tjF34Ka1W4",
    "outputId": "b0aa29ee-a3f1-4417-ffb1-be61da20efc5"
   },
   "outputs": [
    {
     "data": {
      "text/html": [
       "<div>\n",
       "<style scoped>\n",
       "    .dataframe tbody tr th:only-of-type {\n",
       "        vertical-align: middle;\n",
       "    }\n",
       "\n",
       "    .dataframe tbody tr th {\n",
       "        vertical-align: top;\n",
       "    }\n",
       "\n",
       "    .dataframe thead th {\n",
       "        text-align: right;\n",
       "    }\n",
       "</style>\n",
       "<table border=\"1\" class=\"dataframe\">\n",
       "  <thead>\n",
       "    <tr style=\"text-align: right;\">\n",
       "      <th></th>\n",
       "      <th>id</th>\n",
       "      <th>text</th>\n",
       "      <th>label</th>\n",
       "    </tr>\n",
       "  </thead>\n",
       "  <tbody>\n",
       "    <tr>\n",
       "      <th>0</th>\n",
       "      <td>1</td>\n",
       "      <td>всем холодный душ из водомётов и не одного евр...</td>\n",
       "      <td>1.0</td>\n",
       "    </tr>\n",
       "    <tr>\n",
       "      <th>1</th>\n",
       "      <td>2</td>\n",
       "      <td>я поляк я люблю тебе</td>\n",
       "      <td>0.0</td>\n",
       "    </tr>\n",
       "    <tr>\n",
       "      <th>2</th>\n",
       "      <td>3</td>\n",
       "      <td>автор хуй из рта вытащи беркут герои</td>\n",
       "      <td>1.0</td>\n",
       "    </tr>\n",
       "    <tr>\n",
       "      <th>3</th>\n",
       "      <td>4</td>\n",
       "      <td>позор януковичу не замочил майданщиков продажн...</td>\n",
       "      <td>1.0</td>\n",
       "    </tr>\n",
       "    <tr>\n",
       "      <th>4</th>\n",
       "      <td>5</td>\n",
       "      <td>легче всего обвинять россию</td>\n",
       "      <td>0.0</td>\n",
       "    </tr>\n",
       "  </tbody>\n",
       "</table>\n",
       "</div>"
      ],
      "text/plain": [
       "   id                                               text  label\n",
       "0   1  всем холодный душ из водомётов и не одного евр...    1.0\n",
       "1   2                              я поляк я люблю тебе     0.0\n",
       "2   3              автор хуй из рта вытащи беркут герои     1.0\n",
       "3   4  позор януковичу не замочил майданщиков продажн...    1.0\n",
       "4   5                       легче всего обвинять россию     0.0"
      ]
     },
     "execution_count": 5,
     "metadata": {},
     "output_type": "execute_result"
    }
   ],
   "source": [
    "df.head()"
   ]
  },
  {
   "cell_type": "code",
   "execution_count": 6,
   "metadata": {
    "colab": {
     "base_uri": "https://localhost:8080/",
     "height": 206
    },
    "id": "FLFjjgTOctwh",
    "outputId": "b3d84997-b104-4bc3-de39-1a8d27e63d28"
   },
   "outputs": [
    {
     "data": {
      "text/html": [
       "<div>\n",
       "<style scoped>\n",
       "    .dataframe tbody tr th:only-of-type {\n",
       "        vertical-align: middle;\n",
       "    }\n",
       "\n",
       "    .dataframe tbody tr th {\n",
       "        vertical-align: top;\n",
       "    }\n",
       "\n",
       "    .dataframe thead th {\n",
       "        text-align: right;\n",
       "    }\n",
       "</style>\n",
       "<table border=\"1\" class=\"dataframe\">\n",
       "  <thead>\n",
       "    <tr style=\"text-align: right;\">\n",
       "      <th></th>\n",
       "      <th>id</th>\n",
       "      <th>text</th>\n",
       "      <th>label</th>\n",
       "    </tr>\n",
       "  </thead>\n",
       "  <tbody>\n",
       "    <tr>\n",
       "      <th>1995</th>\n",
       "      <td>1996</td>\n",
       "      <td>вот из за таких гоблинов пропукинских и погиба...</td>\n",
       "      <td>1.0</td>\n",
       "    </tr>\n",
       "    <tr>\n",
       "      <th>1996</th>\n",
       "      <td>1997</td>\n",
       "      <td>беркут наведите порядок конце концов в стране</td>\n",
       "      <td>0.0</td>\n",
       "    </tr>\n",
       "    <tr>\n",
       "      <th>1997</th>\n",
       "      <td>1998</td>\n",
       "      <td>слава україні героям слава смерть москалям</td>\n",
       "      <td>1.0</td>\n",
       "    </tr>\n",
       "    <tr>\n",
       "      <th>1998</th>\n",
       "      <td>1999</td>\n",
       "      <td>под бла бла бла таких хакамад мы и потеряли сс...</td>\n",
       "      <td>1.0</td>\n",
       "    </tr>\n",
       "    <tr>\n",
       "      <th>1999</th>\n",
       "      <td>2000</td>\n",
       "      <td>на рахунок олігархів згідний але їх що на росі...</td>\n",
       "      <td>0.0</td>\n",
       "    </tr>\n",
       "  </tbody>\n",
       "</table>\n",
       "</div>"
      ],
      "text/plain": [
       "        id                                               text  label\n",
       "1995  1996  вот из за таких гоблинов пропукинских и погиба...    1.0\n",
       "1996  1997     беркут наведите порядок конце концов в стране     0.0\n",
       "1997  1998        слава україні героям слава смерть москалям     1.0\n",
       "1998  1999  под бла бла бла таких хакамад мы и потеряли сс...    1.0\n",
       "1999  2000  на рахунок олігархів згідний але їх що на росі...    0.0"
      ]
     },
     "execution_count": 6,
     "metadata": {},
     "output_type": "execute_result"
    }
   ],
   "source": [
    "df.tail()"
   ]
  },
  {
   "cell_type": "code",
   "execution_count": 7,
   "metadata": {
    "colab": {
     "base_uri": "https://localhost:8080/"
    },
    "id": "qqgRumQGcxxc",
    "outputId": "0e13df21-081b-4d8f-e3cf-4466e09868ab"
   },
   "outputs": [
    {
     "data": {
      "text/plain": [
       "<bound method Series.unique of 0       всем холодный душ из водомётов и не одного евр...\n",
       "1                                   я поляк я люблю тебе \n",
       "2                   автор хуй из рта вытащи беркут герои \n",
       "3       позор януковичу не замочил майданщиков продажн...\n",
       "4                            легче всего обвинять россию \n",
       "                              ...                        \n",
       "1995    вот из за таких гоблинов пропукинских и погиба...\n",
       "1996       беркут наведите порядок конце концов в стране \n",
       "1997          слава україні героям слава смерть москалям \n",
       "1998    под бла бла бла таких хакамад мы и потеряли сс...\n",
       "1999    на рахунок олігархів згідний але їх що на росі...\n",
       "Name: text, Length: 2000, dtype: object>"
      ]
     },
     "execution_count": 7,
     "metadata": {},
     "output_type": "execute_result"
    }
   ],
   "source": [
    "df['text'].unique"
   ]
  },
  {
   "cell_type": "code",
   "execution_count": 8,
   "metadata": {
    "id": "xurlS8Nyem67"
   },
   "outputs": [],
   "source": [
    "import string"
   ]
  },
  {
   "cell_type": "code",
   "execution_count": 9,
   "metadata": {
    "colab": {
     "base_uri": "https://localhost:8080/",
     "height": 206
    },
    "id": "0Ue-PVWce0oq",
    "outputId": "29a5c55f-7dae-4070-fbd2-fe87bca122e3"
   },
   "outputs": [
    {
     "data": {
      "text/html": [
       "<div>\n",
       "<style scoped>\n",
       "    .dataframe tbody tr th:only-of-type {\n",
       "        vertical-align: middle;\n",
       "    }\n",
       "\n",
       "    .dataframe tbody tr th {\n",
       "        vertical-align: top;\n",
       "    }\n",
       "\n",
       "    .dataframe thead th {\n",
       "        text-align: right;\n",
       "    }\n",
       "</style>\n",
       "<table border=\"1\" class=\"dataframe\">\n",
       "  <thead>\n",
       "    <tr style=\"text-align: right;\">\n",
       "      <th></th>\n",
       "      <th>id</th>\n",
       "      <th>text</th>\n",
       "      <th>label</th>\n",
       "    </tr>\n",
       "  </thead>\n",
       "  <tbody>\n",
       "    <tr>\n",
       "      <th>0</th>\n",
       "      <td>1</td>\n",
       "      <td>всем холодный душ из водомётов и не одного евр...</td>\n",
       "      <td>1.0</td>\n",
       "    </tr>\n",
       "    <tr>\n",
       "      <th>1</th>\n",
       "      <td>2</td>\n",
       "      <td>я поляк я люблю тебе</td>\n",
       "      <td>0.0</td>\n",
       "    </tr>\n",
       "    <tr>\n",
       "      <th>2</th>\n",
       "      <td>3</td>\n",
       "      <td>автор хуй из рта вытащи беркут герои</td>\n",
       "      <td>1.0</td>\n",
       "    </tr>\n",
       "    <tr>\n",
       "      <th>3</th>\n",
       "      <td>4</td>\n",
       "      <td>позор януковичу не замочил майданщиков продажн...</td>\n",
       "      <td>1.0</td>\n",
       "    </tr>\n",
       "    <tr>\n",
       "      <th>4</th>\n",
       "      <td>5</td>\n",
       "      <td>легче всего обвинять россию</td>\n",
       "      <td>0.0</td>\n",
       "    </tr>\n",
       "  </tbody>\n",
       "</table>\n",
       "</div>"
      ],
      "text/plain": [
       "   id                                               text  label\n",
       "0   1  всем холодный душ из водомётов и не одного евр...    1.0\n",
       "1   2                              я поляк я люблю тебе     0.0\n",
       "2   3              автор хуй из рта вытащи беркут герои     1.0\n",
       "3   4  позор януковичу не замочил майданщиков продажн...    1.0\n",
       "4   5                       легче всего обвинять россию     0.0"
      ]
     },
     "execution_count": 9,
     "metadata": {},
     "output_type": "execute_result"
    }
   ],
   "source": [
    "df.head()"
   ]
  },
  {
   "cell_type": "code",
   "execution_count": 10,
   "metadata": {
    "colab": {
     "base_uri": "https://localhost:8080/"
    },
    "id": "KajWFhWfjSrS",
    "outputId": "a77a8e01-a9c2-4906-f658-bfd81cdb72d7"
   },
   "outputs": [
    {
     "name": "stdout",
     "output_type": "stream",
     "text": [
      "<class 'pandas.core.frame.DataFrame'>\n",
      "RangeIndex: 2000 entries, 0 to 1999\n",
      "Data columns (total 3 columns):\n",
      " #   Column  Non-Null Count  Dtype  \n",
      "---  ------  --------------  -----  \n",
      " 0   id      2000 non-null   int64  \n",
      " 1   text    2000 non-null   object \n",
      " 2   label   2000 non-null   float64\n",
      "dtypes: float64(1), int64(1), object(1)\n",
      "memory usage: 47.0+ KB\n"
     ]
    }
   ],
   "source": [
    "df.info()"
   ]
  },
  {
   "cell_type": "code",
   "execution_count": 11,
   "metadata": {
    "colab": {
     "base_uri": "https://localhost:8080/"
    },
    "id": "z6btZkkLhj4g",
    "outputId": "26c3afb4-b4db-465b-fa91-84399a400f76"
   },
   "outputs": [
    {
     "name": "stderr",
     "output_type": "stream",
     "text": [
      "[nltk_data] Downloading package stopwords to\n",
      "[nltk_data]     C:\\Users\\Admin\\AppData\\Roaming\\nltk_data...\n",
      "[nltk_data]   Package stopwords is already up-to-date!\n"
     ]
    }
   ],
   "source": [
    "import nltk\n",
    "nltk.download('stopwords')\n",
    "from nltk.corpus import stopwords"
   ]
  },
  {
   "cell_type": "code",
   "execution_count": 12,
   "metadata": {
    "colab": {
     "base_uri": "https://localhost:8080/"
    },
    "id": "gKdBA2ZSh2rf",
    "outputId": "f953110b-0a31-4ac7-c4d6-b6fbf7bb1973"
   },
   "outputs": [
    {
     "name": "stdout",
     "output_type": "stream",
     "text": [
      "['и', 'в', 'во', 'не', 'что', 'он', 'на', 'я', 'с', 'со', 'как', 'а', 'то', 'все', 'она', 'так', 'его', 'но', 'да', 'ты', 'к', 'у', 'же', 'вы', 'за', 'бы', 'по', 'только', 'ее', 'мне', 'было', 'вот', 'от', 'меня', 'еще', 'нет', 'о', 'из', 'ему', 'теперь', 'когда', 'даже', 'ну', 'вдруг', 'ли', 'если', 'уже', 'или', 'ни', 'быть', 'был', 'него', 'до', 'вас', 'нибудь', 'опять', 'уж', 'вам', 'ведь', 'там', 'потом', 'себя', 'ничего', 'ей', 'может', 'они', 'тут', 'где', 'есть', 'надо', 'ней', 'для', 'мы', 'тебя', 'их', 'чем', 'была', 'сам', 'чтоб', 'без', 'будто', 'чего', 'раз', 'тоже', 'себе', 'под', 'будет', 'ж', 'тогда', 'кто', 'этот', 'того', 'потому', 'этого', 'какой', 'совсем', 'ним', 'здесь', 'этом', 'один', 'почти', 'мой', 'тем', 'чтобы', 'нее', 'сейчас', 'были', 'куда', 'зачем', 'всех', 'никогда', 'можно', 'при', 'наконец', 'два', 'об', 'другой', 'хоть', 'после', 'над', 'больше', 'тот', 'через', 'эти', 'нас', 'про', 'всего', 'них', 'какая', 'много', 'разве', 'три', 'эту', 'моя', 'впрочем', 'хорошо', 'свою', 'этой', 'перед', 'иногда', 'лучше', 'чуть', 'том', 'нельзя', 'такой', 'им', 'более', 'всегда', 'конечно', 'всю', 'между']\n"
     ]
    }
   ],
   "source": [
    "print(stopwords.words('russian'))"
   ]
  },
  {
   "cell_type": "code",
   "execution_count": 13,
   "metadata": {
    "colab": {
     "base_uri": "https://localhost:8080/"
    },
    "id": "UyZYKVAblLzQ",
    "outputId": "bc847523-c603-4581-ebb9-812aa192090e"
   },
   "outputs": [
    {
     "name": "stdout",
     "output_type": "stream",
     "text": [
      "<class 'str'>    2000\n",
      "Name: text, dtype: int64\n"
     ]
    }
   ],
   "source": [
    "print(df['text'].apply(type).value_counts())\n"
   ]
  },
  {
   "cell_type": "code",
   "execution_count": 14,
   "metadata": {
    "colab": {
     "base_uri": "https://localhost:8080/"
    },
    "id": "L8zfy03Wkg5g",
    "outputId": "24dd6a3b-69b5-47f5-8a11-82f6f28e666b"
   },
   "outputs": [
    {
     "name": "stdout",
     "output_type": "stream",
     "text": [
      "Requirement already satisfied: stop-words in c:\\users\\admin\\anaconda3\\envs\\notebook\\lib\\site-packages (2018.7.23)\n"
     ]
    }
   ],
   "source": [
    "!pip install stop-words\n"
   ]
  },
  {
   "cell_type": "code",
   "execution_count": 15,
   "metadata": {
    "id": "Ok_7iVJdgbpA"
   },
   "outputs": [],
   "source": [
    "import stop_words\n",
    "#stop_words_russian = set(stopwords.words('russian'))\n",
    "stop_words_russian = stop_words.get_stop_words('russian')"
   ]
  },
  {
   "cell_type": "code",
   "execution_count": 16,
   "metadata": {
    "id": "9XQeumC_i2n5"
   },
   "outputs": [],
   "source": [
    "\n",
    "# Convert non-string values to empty string\n",
    "df['text'] = df['text'].apply(lambda x: str(x) if type(x) != str else x)\n",
    "\n",
    "# Remove stop words from the text column\n",
    "df['text'] = df['text'].apply(lambda x: ' '.join([word for word in x.split() if word.lower() not in stop_words_russian]))"
   ]
  },
  {
   "cell_type": "code",
   "execution_count": 17,
   "metadata": {
    "colab": {
     "base_uri": "https://localhost:8080/",
     "height": 206
    },
    "id": "NtCVVMqdlqHV",
    "outputId": "ca05e8d0-9d9f-4b6b-d81f-b5e2a2424396"
   },
   "outputs": [
    {
     "data": {
      "text/html": [
       "<div>\n",
       "<style scoped>\n",
       "    .dataframe tbody tr th:only-of-type {\n",
       "        vertical-align: middle;\n",
       "    }\n",
       "\n",
       "    .dataframe tbody tr th {\n",
       "        vertical-align: top;\n",
       "    }\n",
       "\n",
       "    .dataframe thead th {\n",
       "        text-align: right;\n",
       "    }\n",
       "</style>\n",
       "<table border=\"1\" class=\"dataframe\">\n",
       "  <thead>\n",
       "    <tr style=\"text-align: right;\">\n",
       "      <th></th>\n",
       "      <th>id</th>\n",
       "      <th>text</th>\n",
       "      <th>label</th>\n",
       "    </tr>\n",
       "  </thead>\n",
       "  <tbody>\n",
       "    <tr>\n",
       "      <th>0</th>\n",
       "      <td>1</td>\n",
       "      <td>холодный душ водомётов европидо ста останеться</td>\n",
       "      <td>1.0</td>\n",
       "    </tr>\n",
       "    <tr>\n",
       "      <th>1</th>\n",
       "      <td>2</td>\n",
       "      <td>поляк люблю</td>\n",
       "      <td>0.0</td>\n",
       "    </tr>\n",
       "    <tr>\n",
       "      <th>2</th>\n",
       "      <td>3</td>\n",
       "      <td>автор хуй рта вытащи беркут герои</td>\n",
       "      <td>1.0</td>\n",
       "    </tr>\n",
       "    <tr>\n",
       "      <th>3</th>\n",
       "      <td>4</td>\n",
       "      <td>позор януковичу замочил майданщиков продажная ...</td>\n",
       "      <td>1.0</td>\n",
       "    </tr>\n",
       "    <tr>\n",
       "      <th>4</th>\n",
       "      <td>5</td>\n",
       "      <td>легче обвинять россию</td>\n",
       "      <td>0.0</td>\n",
       "    </tr>\n",
       "  </tbody>\n",
       "</table>\n",
       "</div>"
      ],
      "text/plain": [
       "   id                                               text  label\n",
       "0   1     холодный душ водомётов европидо ста останеться    1.0\n",
       "1   2                                        поляк люблю    0.0\n",
       "2   3                  автор хуй рта вытащи беркут герои    1.0\n",
       "3   4  позор януковичу замочил майданщиков продажная ...    1.0\n",
       "4   5                              легче обвинять россию    0.0"
      ]
     },
     "execution_count": 17,
     "metadata": {},
     "output_type": "execute_result"
    }
   ],
   "source": [
    "df.head()"
   ]
  },
  {
   "cell_type": "code",
   "execution_count": 18,
   "metadata": {
    "id": "ZDbuLqrhmgTY"
   },
   "outputs": [],
   "source": [
    "# Define a function to convert text to lowercase\n",
    "def convert_to_lower(text):\n",
    "    return text.lower()\n",
    "\n",
    "# Apply the function to the 'text' column of the DataFrame\n",
    "df['text'] = df['text'].apply(convert_to_lower)"
   ]
  },
  {
   "cell_type": "code",
   "execution_count": 19,
   "metadata": {
    "colab": {
     "base_uri": "https://localhost:8080/",
     "height": 520
    },
    "id": "ZZi5-nyOnUGJ",
    "outputId": "f163d6fd-b301-4947-86c0-bcedd8778be5"
   },
   "outputs": [
    {
     "data": {
      "text/html": [
       "<div>\n",
       "<style scoped>\n",
       "    .dataframe tbody tr th:only-of-type {\n",
       "        vertical-align: middle;\n",
       "    }\n",
       "\n",
       "    .dataframe tbody tr th {\n",
       "        vertical-align: top;\n",
       "    }\n",
       "\n",
       "    .dataframe thead th {\n",
       "        text-align: right;\n",
       "    }\n",
       "</style>\n",
       "<table border=\"1\" class=\"dataframe\">\n",
       "  <thead>\n",
       "    <tr style=\"text-align: right;\">\n",
       "      <th></th>\n",
       "      <th>id</th>\n",
       "      <th>text</th>\n",
       "      <th>label</th>\n",
       "    </tr>\n",
       "  </thead>\n",
       "  <tbody>\n",
       "    <tr>\n",
       "      <th>0</th>\n",
       "      <td>1</td>\n",
       "      <td>холодный душ водомётов европидо ста останеться</td>\n",
       "      <td>1.0</td>\n",
       "    </tr>\n",
       "    <tr>\n",
       "      <th>1</th>\n",
       "      <td>2</td>\n",
       "      <td>поляк люблю</td>\n",
       "      <td>0.0</td>\n",
       "    </tr>\n",
       "    <tr>\n",
       "      <th>2</th>\n",
       "      <td>3</td>\n",
       "      <td>автор хуй рта вытащи беркут герои</td>\n",
       "      <td>1.0</td>\n",
       "    </tr>\n",
       "    <tr>\n",
       "      <th>3</th>\n",
       "      <td>4</td>\n",
       "      <td>позор януковичу замочил майданщиков продажная ...</td>\n",
       "      <td>1.0</td>\n",
       "    </tr>\n",
       "    <tr>\n",
       "      <th>4</th>\n",
       "      <td>5</td>\n",
       "      <td>легче обвинять россию</td>\n",
       "      <td>0.0</td>\n",
       "    </tr>\n",
       "    <tr>\n",
       "      <th>5</th>\n",
       "      <td>6</td>\n",
       "      <td>росия говно україна країна героїв</td>\n",
       "      <td>1.0</td>\n",
       "    </tr>\n",
       "    <tr>\n",
       "      <th>6</th>\n",
       "      <td>7</td>\n",
       "      <td>эх танком круче смотрелось</td>\n",
       "      <td>0.0</td>\n",
       "    </tr>\n",
       "    <tr>\n",
       "      <th>7</th>\n",
       "      <td>8</td>\n",
       "      <td>як можна брат брата</td>\n",
       "      <td>0.0</td>\n",
       "    </tr>\n",
       "    <tr>\n",
       "      <th>8</th>\n",
       "      <td>9</td>\n",
       "      <td>владимир владимирович</td>\n",
       "      <td>0.0</td>\n",
       "    </tr>\n",
       "    <tr>\n",
       "      <th>9</th>\n",
       "      <td>10</td>\n",
       "      <td>сука продажная платят бред тварь слушают терпят</td>\n",
       "      <td>1.0</td>\n",
       "    </tr>\n",
       "    <tr>\n",
       "      <th>10</th>\n",
       "      <td>11</td>\n",
       "      <td>спишь сша война</td>\n",
       "      <td>0.0</td>\n",
       "    </tr>\n",
       "    <tr>\n",
       "      <th>11</th>\n",
       "      <td>12</td>\n",
       "      <td>ребята прислушаемся словам янушеску вставай ук...</td>\n",
       "      <td>1.0</td>\n",
       "    </tr>\n",
       "    <tr>\n",
       "      <th>12</th>\n",
       "      <td>13</td>\n",
       "      <td>народ друг друга ненавидите</td>\n",
       "      <td>0.0</td>\n",
       "    </tr>\n",
       "    <tr>\n",
       "      <th>13</th>\n",
       "      <td>14</td>\n",
       "      <td>роман сыроватко страна стремительно деградируе...</td>\n",
       "      <td>1.0</td>\n",
       "    </tr>\n",
       "    <tr>\n",
       "      <th>14</th>\n",
       "      <td>15</td>\n",
       "      <td>сеера макс живу восточной украине самая задница</td>\n",
       "      <td>1.0</td>\n",
       "    </tr>\n",
       "  </tbody>\n",
       "</table>\n",
       "</div>"
      ],
      "text/plain": [
       "    id                                               text  label\n",
       "0    1     холодный душ водомётов европидо ста останеться    1.0\n",
       "1    2                                        поляк люблю    0.0\n",
       "2    3                  автор хуй рта вытащи беркут герои    1.0\n",
       "3    4  позор януковичу замочил майданщиков продажная ...    1.0\n",
       "4    5                              легче обвинять россию    0.0\n",
       "5    6                  росия говно україна країна героїв    1.0\n",
       "6    7                         эх танком круче смотрелось    0.0\n",
       "7    8                                як можна брат брата    0.0\n",
       "8    9                              владимир владимирович    0.0\n",
       "9   10    сука продажная платят бред тварь слушают терпят    1.0\n",
       "10  11                                    спишь сша война    0.0\n",
       "11  12  ребята прислушаемся словам янушеску вставай ук...    1.0\n",
       "12  13                        народ друг друга ненавидите    0.0\n",
       "13  14  роман сыроватко страна стремительно деградируе...    1.0\n",
       "14  15    сеера макс живу восточной украине самая задница    1.0"
      ]
     },
     "execution_count": 19,
     "metadata": {},
     "output_type": "execute_result"
    }
   ],
   "source": [
    "df.head(15)"
   ]
  },
  {
   "cell_type": "code",
   "execution_count": 20,
   "metadata": {
    "id": "DC3WwRAEnZf9"
   },
   "outputs": [],
   "source": [
    "import re\n",
    "def remove_urls(text):\n",
    "    return re.sub(r'http\\S+', '', text)\n",
    "\n",
    "# Apply the function to the 'text' column of the DataFrame\n",
    "df['text'] = df['text'].apply(remove_urls)"
   ]
  },
  {
   "cell_type": "code",
   "execution_count": 21,
   "metadata": {
    "colab": {
     "base_uri": "https://localhost:8080/",
     "height": 677
    },
    "id": "k12lzCmhoR0p",
    "outputId": "e3fb299f-df45-4390-c668-39e02fc13730"
   },
   "outputs": [
    {
     "data": {
      "text/html": [
       "<div>\n",
       "<style scoped>\n",
       "    .dataframe tbody tr th:only-of-type {\n",
       "        vertical-align: middle;\n",
       "    }\n",
       "\n",
       "    .dataframe tbody tr th {\n",
       "        vertical-align: top;\n",
       "    }\n",
       "\n",
       "    .dataframe thead th {\n",
       "        text-align: right;\n",
       "    }\n",
       "</style>\n",
       "<table border=\"1\" class=\"dataframe\">\n",
       "  <thead>\n",
       "    <tr style=\"text-align: right;\">\n",
       "      <th></th>\n",
       "      <th>id</th>\n",
       "      <th>text</th>\n",
       "      <th>label</th>\n",
       "    </tr>\n",
       "  </thead>\n",
       "  <tbody>\n",
       "    <tr>\n",
       "      <th>1980</th>\n",
       "      <td>1981</td>\n",
       "      <td>виталий журба секции политпросвещения обкомах ...</td>\n",
       "      <td>0.0</td>\n",
       "    </tr>\n",
       "    <tr>\n",
       "      <th>1981</th>\n",
       "      <td>1982</td>\n",
       "      <td>какие защитники мать вашу омону беркуту первым...</td>\n",
       "      <td>0.0</td>\n",
       "    </tr>\n",
       "    <tr>\n",
       "      <th>1982</th>\n",
       "      <td>1983</td>\n",
       "      <td>хлопци хотят стерпим хуже будущее белорусии хо...</td>\n",
       "      <td>0.0</td>\n",
       "    </tr>\n",
       "    <tr>\n",
       "      <th>1983</th>\n",
       "      <td>1984</td>\n",
       "      <td>героям слива</td>\n",
       "      <td>0.0</td>\n",
       "    </tr>\n",
       "    <tr>\n",
       "      <th>1984</th>\n",
       "      <td>1985</td>\n",
       "      <td>грубо пустой звук последний крик умирающего быка</td>\n",
       "      <td>0.0</td>\n",
       "    </tr>\n",
       "    <tr>\n",
       "      <th>1985</th>\n",
       "      <td>1986</td>\n",
       "      <td>макс курбатов януковича шибко никто поддержива...</td>\n",
       "      <td>0.0</td>\n",
       "    </tr>\n",
       "    <tr>\n",
       "      <th>1986</th>\n",
       "      <td>1987</td>\n",
       "      <td>улирих жуков закончили российской культурой не...</td>\n",
       "      <td>0.0</td>\n",
       "    </tr>\n",
       "    <tr>\n",
       "      <th>1987</th>\n",
       "      <td>1988</td>\n",
       "      <td>любовь шнырева личности переходил свой уровень...</td>\n",
       "      <td>1.0</td>\n",
       "    </tr>\n",
       "    <tr>\n",
       "      <th>1988</th>\n",
       "      <td>1989</td>\n",
       "      <td>дай бог здоровья парниша души пел</td>\n",
       "      <td>0.0</td>\n",
       "    </tr>\n",
       "    <tr>\n",
       "      <th>1989</th>\n",
       "      <td>1990</td>\n",
       "      <td>информаторы единой федерации гнилопяткинские ж...</td>\n",
       "      <td>1.0</td>\n",
       "    </tr>\n",
       "    <tr>\n",
       "      <th>1990</th>\n",
       "      <td>1991</td>\n",
       "      <td>янукович ужасный котором доллар порошенко раза...</td>\n",
       "      <td>0.0</td>\n",
       "    </tr>\n",
       "    <tr>\n",
       "      <th>1991</th>\n",
       "      <td>1992</td>\n",
       "      <td>свободы хватает</td>\n",
       "      <td>0.0</td>\n",
       "    </tr>\n",
       "    <tr>\n",
       "      <th>1992</th>\n",
       "      <td>1993</td>\n",
       "      <td>татаро монгольское иго угнетало погибших разру...</td>\n",
       "      <td>0.0</td>\n",
       "    </tr>\n",
       "    <tr>\n",
       "      <th>1993</th>\n",
       "      <td>1994</td>\n",
       "      <td>развели пидорятник виноваты</td>\n",
       "      <td>1.0</td>\n",
       "    </tr>\n",
       "    <tr>\n",
       "      <th>1994</th>\n",
       "      <td>1995</td>\n",
       "      <td>старая жена путина вряд родит молодая гимнастк...</td>\n",
       "      <td>0.0</td>\n",
       "    </tr>\n",
       "    <tr>\n",
       "      <th>1995</th>\n",
       "      <td>1996</td>\n",
       "      <td>таких гоблинов пропукинских погибают всякая мр...</td>\n",
       "      <td>1.0</td>\n",
       "    </tr>\n",
       "    <tr>\n",
       "      <th>1996</th>\n",
       "      <td>1997</td>\n",
       "      <td>беркут наведите порядок конце концов стране</td>\n",
       "      <td>0.0</td>\n",
       "    </tr>\n",
       "    <tr>\n",
       "      <th>1997</th>\n",
       "      <td>1998</td>\n",
       "      <td>слава україні героям слава смерть москалям</td>\n",
       "      <td>1.0</td>\n",
       "    </tr>\n",
       "    <tr>\n",
       "      <th>1998</th>\n",
       "      <td>1999</td>\n",
       "      <td>бла бла бла таких хакамад потеряли ссср мерзка...</td>\n",
       "      <td>1.0</td>\n",
       "    </tr>\n",
       "    <tr>\n",
       "      <th>1999</th>\n",
       "      <td>2000</td>\n",
       "      <td>рахунок олігархів згідний але їх що росії вже ...</td>\n",
       "      <td>0.0</td>\n",
       "    </tr>\n",
       "  </tbody>\n",
       "</table>\n",
       "</div>"
      ],
      "text/plain": [
       "        id                                               text  label\n",
       "1980  1981  виталий журба секции политпросвещения обкомах ...    0.0\n",
       "1981  1982  какие защитники мать вашу омону беркуту первым...    0.0\n",
       "1982  1983  хлопци хотят стерпим хуже будущее белорусии хо...    0.0\n",
       "1983  1984                                       героям слива    0.0\n",
       "1984  1985   грубо пустой звук последний крик умирающего быка    0.0\n",
       "1985  1986  макс курбатов януковича шибко никто поддержива...    0.0\n",
       "1986  1987  улирих жуков закончили российской культурой не...    0.0\n",
       "1987  1988  любовь шнырева личности переходил свой уровень...    1.0\n",
       "1988  1989                  дай бог здоровья парниша души пел    0.0\n",
       "1989  1990  информаторы единой федерации гнилопяткинские ж...    1.0\n",
       "1990  1991  янукович ужасный котором доллар порошенко раза...    0.0\n",
       "1991  1992                                    свободы хватает    0.0\n",
       "1992  1993  татаро монгольское иго угнетало погибших разру...    0.0\n",
       "1993  1994                        развели пидорятник виноваты    1.0\n",
       "1994  1995  старая жена путина вряд родит молодая гимнастк...    0.0\n",
       "1995  1996  таких гоблинов пропукинских погибают всякая мр...    1.0\n",
       "1996  1997        беркут наведите порядок конце концов стране    0.0\n",
       "1997  1998         слава україні героям слава смерть москалям    1.0\n",
       "1998  1999  бла бла бла таких хакамад потеряли ссср мерзка...    1.0\n",
       "1999  2000  рахунок олігархів згідний але їх що росії вже ...    0.0"
      ]
     },
     "execution_count": 21,
     "metadata": {},
     "output_type": "execute_result"
    }
   ],
   "source": [
    "df.tail(20)"
   ]
  },
  {
   "cell_type": "code",
   "execution_count": 22,
   "metadata": {
    "id": "toSydxQHom5_"
   },
   "outputs": [],
   "source": [
    "\n",
    "\n",
    "# Define a function to remove punctuation and extra spaces from a text string\n",
    "def remove_punct_and_extra_space(text):\n",
    "    # Remove punctuation\n",
    "    text = text.translate(str.maketrans('', '', string.punctuation))\n",
    "    # Remove extra space\n",
    "    text = re.sub(' +', ' ', text)\n",
    "    return text\n",
    "\n",
    "# Apply the function to the 'text' column of the DataFrame\n",
    "df['text'] = df['text'].apply(remove_punct_and_extra_space)\n"
   ]
  },
  {
   "cell_type": "code",
   "execution_count": 23,
   "metadata": {
    "colab": {
     "base_uri": "https://localhost:8080/",
     "height": 520
    },
    "id": "JH_5I671pr1-",
    "outputId": "956c2fa3-8a34-46e0-fe36-8a3d451ff2af"
   },
   "outputs": [
    {
     "data": {
      "text/html": [
       "<div>\n",
       "<style scoped>\n",
       "    .dataframe tbody tr th:only-of-type {\n",
       "        vertical-align: middle;\n",
       "    }\n",
       "\n",
       "    .dataframe tbody tr th {\n",
       "        vertical-align: top;\n",
       "    }\n",
       "\n",
       "    .dataframe thead th {\n",
       "        text-align: right;\n",
       "    }\n",
       "</style>\n",
       "<table border=\"1\" class=\"dataframe\">\n",
       "  <thead>\n",
       "    <tr style=\"text-align: right;\">\n",
       "      <th></th>\n",
       "      <th>id</th>\n",
       "      <th>text</th>\n",
       "      <th>label</th>\n",
       "    </tr>\n",
       "  </thead>\n",
       "  <tbody>\n",
       "    <tr>\n",
       "      <th>1985</th>\n",
       "      <td>1986</td>\n",
       "      <td>макс курбатов януковича шибко никто поддержива...</td>\n",
       "      <td>0.0</td>\n",
       "    </tr>\n",
       "    <tr>\n",
       "      <th>1986</th>\n",
       "      <td>1987</td>\n",
       "      <td>улирих жуков закончили российской культурой не...</td>\n",
       "      <td>0.0</td>\n",
       "    </tr>\n",
       "    <tr>\n",
       "      <th>1987</th>\n",
       "      <td>1988</td>\n",
       "      <td>любовь шнырева личности переходил свой уровень...</td>\n",
       "      <td>1.0</td>\n",
       "    </tr>\n",
       "    <tr>\n",
       "      <th>1988</th>\n",
       "      <td>1989</td>\n",
       "      <td>дай бог здоровья парниша души пел</td>\n",
       "      <td>0.0</td>\n",
       "    </tr>\n",
       "    <tr>\n",
       "      <th>1989</th>\n",
       "      <td>1990</td>\n",
       "      <td>информаторы единой федерации гнилопяткинские ж...</td>\n",
       "      <td>1.0</td>\n",
       "    </tr>\n",
       "    <tr>\n",
       "      <th>1990</th>\n",
       "      <td>1991</td>\n",
       "      <td>янукович ужасный котором доллар порошенко раза...</td>\n",
       "      <td>0.0</td>\n",
       "    </tr>\n",
       "    <tr>\n",
       "      <th>1991</th>\n",
       "      <td>1992</td>\n",
       "      <td>свободы хватает</td>\n",
       "      <td>0.0</td>\n",
       "    </tr>\n",
       "    <tr>\n",
       "      <th>1992</th>\n",
       "      <td>1993</td>\n",
       "      <td>татаро монгольское иго угнетало погибших разру...</td>\n",
       "      <td>0.0</td>\n",
       "    </tr>\n",
       "    <tr>\n",
       "      <th>1993</th>\n",
       "      <td>1994</td>\n",
       "      <td>развели пидорятник виноваты</td>\n",
       "      <td>1.0</td>\n",
       "    </tr>\n",
       "    <tr>\n",
       "      <th>1994</th>\n",
       "      <td>1995</td>\n",
       "      <td>старая жена путина вряд родит молодая гимнастк...</td>\n",
       "      <td>0.0</td>\n",
       "    </tr>\n",
       "    <tr>\n",
       "      <th>1995</th>\n",
       "      <td>1996</td>\n",
       "      <td>таких гоблинов пропукинских погибают всякая мр...</td>\n",
       "      <td>1.0</td>\n",
       "    </tr>\n",
       "    <tr>\n",
       "      <th>1996</th>\n",
       "      <td>1997</td>\n",
       "      <td>беркут наведите порядок конце концов стране</td>\n",
       "      <td>0.0</td>\n",
       "    </tr>\n",
       "    <tr>\n",
       "      <th>1997</th>\n",
       "      <td>1998</td>\n",
       "      <td>слава україні героям слава смерть москалям</td>\n",
       "      <td>1.0</td>\n",
       "    </tr>\n",
       "    <tr>\n",
       "      <th>1998</th>\n",
       "      <td>1999</td>\n",
       "      <td>бла бла бла таких хакамад потеряли ссср мерзка...</td>\n",
       "      <td>1.0</td>\n",
       "    </tr>\n",
       "    <tr>\n",
       "      <th>1999</th>\n",
       "      <td>2000</td>\n",
       "      <td>рахунок олігархів згідний але їх що росії вже ...</td>\n",
       "      <td>0.0</td>\n",
       "    </tr>\n",
       "  </tbody>\n",
       "</table>\n",
       "</div>"
      ],
      "text/plain": [
       "        id                                               text  label\n",
       "1985  1986  макс курбатов януковича шибко никто поддержива...    0.0\n",
       "1986  1987  улирих жуков закончили российской культурой не...    0.0\n",
       "1987  1988  любовь шнырева личности переходил свой уровень...    1.0\n",
       "1988  1989                  дай бог здоровья парниша души пел    0.0\n",
       "1989  1990  информаторы единой федерации гнилопяткинские ж...    1.0\n",
       "1990  1991  янукович ужасный котором доллар порошенко раза...    0.0\n",
       "1991  1992                                    свободы хватает    0.0\n",
       "1992  1993  татаро монгольское иго угнетало погибших разру...    0.0\n",
       "1993  1994                        развели пидорятник виноваты    1.0\n",
       "1994  1995  старая жена путина вряд родит молодая гимнастк...    0.0\n",
       "1995  1996  таких гоблинов пропукинских погибают всякая мр...    1.0\n",
       "1996  1997        беркут наведите порядок конце концов стране    0.0\n",
       "1997  1998         слава україні героям слава смерть москалям    1.0\n",
       "1998  1999  бла бла бла таких хакамад потеряли ссср мерзка...    1.0\n",
       "1999  2000  рахунок олігархів згідний але їх що росії вже ...    0.0"
      ]
     },
     "execution_count": 23,
     "metadata": {},
     "output_type": "execute_result"
    }
   ],
   "source": [
    "df.tail(15)"
   ]
  },
  {
   "cell_type": "code",
   "execution_count": 24,
   "metadata": {
    "colab": {
     "base_uri": "https://localhost:8080/"
    },
    "id": "HtwTxCRpqQJN",
    "outputId": "7a9c5d07-207a-4044-e945-df79ba904f0c"
   },
   "outputs": [
    {
     "name": "stderr",
     "output_type": "stream",
     "text": [
      "[nltk_data] Downloading package punkt to\n",
      "[nltk_data]     C:\\Users\\Admin\\AppData\\Roaming\\nltk_data...\n",
      "[nltk_data]   Package punkt is already up-to-date!\n",
      "[nltk_data] Downloading package averaged_perceptron_tagger to\n",
      "[nltk_data]     C:\\Users\\Admin\\AppData\\Roaming\\nltk_data...\n",
      "[nltk_data]   Package averaged_perceptron_tagger is already up-to-\n",
      "[nltk_data]       date!\n",
      "[nltk_data] Downloading package tagsets to\n",
      "[nltk_data]     C:\\Users\\Admin\\AppData\\Roaming\\nltk_data...\n",
      "[nltk_data]   Package tagsets is already up-to-date!\n"
     ]
    },
    {
     "data": {
      "text/plain": [
       "True"
      ]
     },
     "execution_count": 24,
     "metadata": {},
     "output_type": "execute_result"
    }
   ],
   "source": [
    "nltk.download('punkt')\n",
    "nltk.download('averaged_perceptron_tagger')\n",
    "nltk.download('tagsets')"
   ]
  },
  {
   "cell_type": "code",
   "execution_count": 25,
   "metadata": {
    "id": "cL8BDio-sEUM"
   },
   "outputs": [],
   "source": [
    "# Tokenize the text in the 'text' column\n",
    "df['text_tokenized'] = df['text'].apply(lambda x: nltk.word_tokenize(x))"
   ]
  },
  {
   "cell_type": "code",
   "execution_count": 26,
   "metadata": {
    "colab": {
     "base_uri": "https://localhost:8080/",
     "height": 520
    },
    "id": "0wi9mtxrsKSm",
    "outputId": "1b0689cc-2bd2-4a68-9b28-08d58baacce8"
   },
   "outputs": [
    {
     "data": {
      "text/html": [
       "<div>\n",
       "<style scoped>\n",
       "    .dataframe tbody tr th:only-of-type {\n",
       "        vertical-align: middle;\n",
       "    }\n",
       "\n",
       "    .dataframe tbody tr th {\n",
       "        vertical-align: top;\n",
       "    }\n",
       "\n",
       "    .dataframe thead th {\n",
       "        text-align: right;\n",
       "    }\n",
       "</style>\n",
       "<table border=\"1\" class=\"dataframe\">\n",
       "  <thead>\n",
       "    <tr style=\"text-align: right;\">\n",
       "      <th></th>\n",
       "      <th>id</th>\n",
       "      <th>text</th>\n",
       "      <th>label</th>\n",
       "      <th>text_tokenized</th>\n",
       "    </tr>\n",
       "  </thead>\n",
       "  <tbody>\n",
       "    <tr>\n",
       "      <th>1985</th>\n",
       "      <td>1986</td>\n",
       "      <td>макс курбатов януковича шибко никто поддержива...</td>\n",
       "      <td>0.0</td>\n",
       "      <td>[макс, курбатов, януковича, шибко, никто, подд...</td>\n",
       "    </tr>\n",
       "    <tr>\n",
       "      <th>1986</th>\n",
       "      <td>1987</td>\n",
       "      <td>улирих жуков закончили российской культурой не...</td>\n",
       "      <td>0.0</td>\n",
       "      <td>[улирих, жуков, закончили, российской, культур...</td>\n",
       "    </tr>\n",
       "    <tr>\n",
       "      <th>1987</th>\n",
       "      <td>1988</td>\n",
       "      <td>любовь шнырева личности переходил свой уровень...</td>\n",
       "      <td>1.0</td>\n",
       "      <td>[любовь, шнырева, личности, переходил, свой, у...</td>\n",
       "    </tr>\n",
       "    <tr>\n",
       "      <th>1988</th>\n",
       "      <td>1989</td>\n",
       "      <td>дай бог здоровья парниша души пел</td>\n",
       "      <td>0.0</td>\n",
       "      <td>[дай, бог, здоровья, парниша, души, пел]</td>\n",
       "    </tr>\n",
       "    <tr>\n",
       "      <th>1989</th>\n",
       "      <td>1990</td>\n",
       "      <td>информаторы единой федерации гнилопяткинские ж...</td>\n",
       "      <td>1.0</td>\n",
       "      <td>[информаторы, единой, федерации, гнилопяткинск...</td>\n",
       "    </tr>\n",
       "    <tr>\n",
       "      <th>1990</th>\n",
       "      <td>1991</td>\n",
       "      <td>янукович ужасный котором доллар порошенко раза...</td>\n",
       "      <td>0.0</td>\n",
       "      <td>[янукович, ужасный, котором, доллар, порошенко...</td>\n",
       "    </tr>\n",
       "    <tr>\n",
       "      <th>1991</th>\n",
       "      <td>1992</td>\n",
       "      <td>свободы хватает</td>\n",
       "      <td>0.0</td>\n",
       "      <td>[свободы, хватает]</td>\n",
       "    </tr>\n",
       "    <tr>\n",
       "      <th>1992</th>\n",
       "      <td>1993</td>\n",
       "      <td>татаро монгольское иго угнетало погибших разру...</td>\n",
       "      <td>0.0</td>\n",
       "      <td>[татаро, монгольское, иго, угнетало, погибших,...</td>\n",
       "    </tr>\n",
       "    <tr>\n",
       "      <th>1993</th>\n",
       "      <td>1994</td>\n",
       "      <td>развели пидорятник виноваты</td>\n",
       "      <td>1.0</td>\n",
       "      <td>[развели, пидорятник, виноваты]</td>\n",
       "    </tr>\n",
       "    <tr>\n",
       "      <th>1994</th>\n",
       "      <td>1995</td>\n",
       "      <td>старая жена путина вряд родит молодая гимнастк...</td>\n",
       "      <td>0.0</td>\n",
       "      <td>[старая, жена, путина, вряд, родит, молодая, г...</td>\n",
       "    </tr>\n",
       "    <tr>\n",
       "      <th>1995</th>\n",
       "      <td>1996</td>\n",
       "      <td>таких гоблинов пропукинских погибают всякая мр...</td>\n",
       "      <td>1.0</td>\n",
       "      <td>[таких, гоблинов, пропукинских, погибают, всяк...</td>\n",
       "    </tr>\n",
       "    <tr>\n",
       "      <th>1996</th>\n",
       "      <td>1997</td>\n",
       "      <td>беркут наведите порядок конце концов стране</td>\n",
       "      <td>0.0</td>\n",
       "      <td>[беркут, наведите, порядок, конце, концов, стр...</td>\n",
       "    </tr>\n",
       "    <tr>\n",
       "      <th>1997</th>\n",
       "      <td>1998</td>\n",
       "      <td>слава україні героям слава смерть москалям</td>\n",
       "      <td>1.0</td>\n",
       "      <td>[слава, україні, героям, слава, смерть, москалям]</td>\n",
       "    </tr>\n",
       "    <tr>\n",
       "      <th>1998</th>\n",
       "      <td>1999</td>\n",
       "      <td>бла бла бла таких хакамад потеряли ссср мерзка...</td>\n",
       "      <td>1.0</td>\n",
       "      <td>[бла, бла, бла, таких, хакамад, потеряли, ссср...</td>\n",
       "    </tr>\n",
       "    <tr>\n",
       "      <th>1999</th>\n",
       "      <td>2000</td>\n",
       "      <td>рахунок олігархів згідний але їх що росії вже ...</td>\n",
       "      <td>0.0</td>\n",
       "      <td>[рахунок, олігархів, згідний, але, їх, що, рос...</td>\n",
       "    </tr>\n",
       "  </tbody>\n",
       "</table>\n",
       "</div>"
      ],
      "text/plain": [
       "        id                                               text  label  \\\n",
       "1985  1986  макс курбатов януковича шибко никто поддержива...    0.0   \n",
       "1986  1987  улирих жуков закончили российской культурой не...    0.0   \n",
       "1987  1988  любовь шнырева личности переходил свой уровень...    1.0   \n",
       "1988  1989                  дай бог здоровья парниша души пел    0.0   \n",
       "1989  1990  информаторы единой федерации гнилопяткинские ж...    1.0   \n",
       "1990  1991  янукович ужасный котором доллар порошенко раза...    0.0   \n",
       "1991  1992                                    свободы хватает    0.0   \n",
       "1992  1993  татаро монгольское иго угнетало погибших разру...    0.0   \n",
       "1993  1994                        развели пидорятник виноваты    1.0   \n",
       "1994  1995  старая жена путина вряд родит молодая гимнастк...    0.0   \n",
       "1995  1996  таких гоблинов пропукинских погибают всякая мр...    1.0   \n",
       "1996  1997        беркут наведите порядок конце концов стране    0.0   \n",
       "1997  1998         слава україні героям слава смерть москалям    1.0   \n",
       "1998  1999  бла бла бла таких хакамад потеряли ссср мерзка...    1.0   \n",
       "1999  2000  рахунок олігархів згідний але їх що росії вже ...    0.0   \n",
       "\n",
       "                                         text_tokenized  \n",
       "1985  [макс, курбатов, януковича, шибко, никто, подд...  \n",
       "1986  [улирих, жуков, закончили, российской, культур...  \n",
       "1987  [любовь, шнырева, личности, переходил, свой, у...  \n",
       "1988           [дай, бог, здоровья, парниша, души, пел]  \n",
       "1989  [информаторы, единой, федерации, гнилопяткинск...  \n",
       "1990  [янукович, ужасный, котором, доллар, порошенко...  \n",
       "1991                                 [свободы, хватает]  \n",
       "1992  [татаро, монгольское, иго, угнетало, погибших,...  \n",
       "1993                    [развели, пидорятник, виноваты]  \n",
       "1994  [старая, жена, путина, вряд, родит, молодая, г...  \n",
       "1995  [таких, гоблинов, пропукинских, погибают, всяк...  \n",
       "1996  [беркут, наведите, порядок, конце, концов, стр...  \n",
       "1997  [слава, україні, героям, слава, смерть, москалям]  \n",
       "1998  [бла, бла, бла, таких, хакамад, потеряли, ссср...  \n",
       "1999  [рахунок, олігархів, згідний, але, їх, що, рос...  "
      ]
     },
     "execution_count": 26,
     "metadata": {},
     "output_type": "execute_result"
    }
   ],
   "source": [
    "df.tail(15)"
   ]
  },
  {
   "cell_type": "code",
   "execution_count": 27,
   "metadata": {},
   "outputs": [
    {
     "name": "stdout",
     "output_type": "stream",
     "text": [
      "Requirement already satisfied: pymorphy2 in c:\\users\\admin\\anaconda3\\envs\\notebook\\lib\\site-packages (0.9.1)\n",
      "Requirement already satisfied: dawg-python>=0.7.1 in c:\\users\\admin\\anaconda3\\envs\\notebook\\lib\\site-packages (from pymorphy2) (0.7.2)\n",
      "Requirement already satisfied: pymorphy2-dicts-ru<3.0,>=2.4 in c:\\users\\admin\\anaconda3\\envs\\notebook\\lib\\site-packages (from pymorphy2) (2.4.417127.4579844)\n",
      "Requirement already satisfied: docopt>=0.6 in c:\\users\\admin\\anaconda3\\envs\\notebook\\lib\\site-packages (from pymorphy2) (0.6.2)\n"
     ]
    }
   ],
   "source": [
    "!pip install pymorphy2"
   ]
  },
  {
   "cell_type": "code",
   "execution_count": 28,
   "metadata": {
    "colab": {
     "base_uri": "https://localhost:8080/"
    },
    "id": "Kt3GzSVsmN1O",
    "outputId": "b695a0e4-3780-4498-921e-0f67df9342e4"
   },
   "outputs": [
    {
     "data": {
      "text/plain": [
       "0       [холодный, душа, водомёт, европидо, сто, остан...\n",
       "1                                         [поляк, любить]\n",
       "2              [автор, хуй, рот, вытащить, беркут, герой]\n",
       "3       [позор, янукович, замочить, майданщик, продажн...\n",
       "4                              [лёгкий, обвинять, россия]\n",
       "                              ...                        \n",
       "1995    [такой, гоблин, пропукинский, погибать, всякий...\n",
       "1996     [беркут, навести, порядок, конец, конец, страна]\n",
       "1997      [слава, україні, герой, слава, смерть, москаль]\n",
       "1998    [бла, бла, бла, такой, хакамада, потерять, ссс...\n",
       "1999    [рахунок, олігархіть, згідний, але, їх, що, ро...\n",
       "Name: text, Length: 2000, dtype: object"
      ]
     },
     "execution_count": 28,
     "metadata": {},
     "output_type": "execute_result"
    }
   ],
   "source": [
    "import re\n",
    "from pymorphy2 import MorphAnalyzer\n",
    "from nltk.corpus import stopwords\n",
    "\n",
    "patterns = \"[A-Za-z0-9!#$%&'()*+,./:;<=>?@[\\]^_`{|}~—\\\"\\-]+\"\n",
    "stopwords_ru = stopwords.words(\"russian\")\n",
    "morph = MorphAnalyzer()\n",
    "\n",
    "def lemmatize(doc):\n",
    "    doc = re.sub(patterns, ' ', doc)\n",
    "    tokens = []\n",
    "    for token in doc.split():\n",
    "        if token and token not in stopwords_ru:\n",
    "            token = token.strip()\n",
    "            token = morph.normal_forms(token)[0]\n",
    "            \n",
    "            tokens.append(token)\n",
    "    if len(tokens) >= 1:\n",
    "        return tokens\n",
    "    return None\n",
    "\n",
    "data = df.text.apply(lemmatize)\n",
    "#data = data.dropna()\n",
    "data"
   ]
  },
  {
   "cell_type": "code",
   "execution_count": 31,
   "metadata": {
    "id": "jCqCYgMsqNkw"
   },
   "outputs": [
    {
     "name": "stderr",
     "output_type": "stream",
     "text": [
      "C:\\Users\\Admin\\anaconda3\\envs\\notebook\\lib\\site-packages\\tqdm\\auto.py:22: TqdmWarning: IProgress not found. Please update jupyter and ipywidgets. See https://ipywidgets.readthedocs.io/en/stable/user_install.html\n",
      "  from .autonotebook import tqdm as notebook_tqdm\n"
     ]
    }
   ],
   "source": []
  },
  {
   "cell_type": "code",
   "execution_count": 32,
   "metadata": {
    "colab": {
     "base_uri": "https://localhost:8080/",
     "height": 206
    },
    "id": "R1r8oKXEqYSQ",
    "outputId": "96202551-f2a5-425b-fd23-6c2c5140c39b"
   },
   "outputs": [],
   "source": []
  },
  {
   "cell_type": "code",
   "execution_count": 74,
   "metadata": {},
   "outputs": [
    {
     "data": {
      "text/html": [
       "<div>\n",
       "<style scoped>\n",
       "    .dataframe tbody tr th:only-of-type {\n",
       "        vertical-align: middle;\n",
       "    }\n",
       "\n",
       "    .dataframe tbody tr th {\n",
       "        vertical-align: top;\n",
       "    }\n",
       "\n",
       "    .dataframe thead th {\n",
       "        text-align: right;\n",
       "    }\n",
       "</style>\n",
       "<table border=\"1\" class=\"dataframe\">\n",
       "  <thead>\n",
       "    <tr style=\"text-align: right;\">\n",
       "      <th></th>\n",
       "      <th>id</th>\n",
       "      <th>text</th>\n",
       "      <th>label</th>\n",
       "    </tr>\n",
       "  </thead>\n",
       "  <tbody>\n",
       "    <tr>\n",
       "      <th>0</th>\n",
       "      <td>1</td>\n",
       "      <td>[холодный, душа, водомёт, европидо, сто, остан...</td>\n",
       "      <td>1.0</td>\n",
       "    </tr>\n",
       "    <tr>\n",
       "      <th>1</th>\n",
       "      <td>2</td>\n",
       "      <td>[поляк, любить]</td>\n",
       "      <td>0.0</td>\n",
       "    </tr>\n",
       "    <tr>\n",
       "      <th>2</th>\n",
       "      <td>3</td>\n",
       "      <td>[автор, хуй, рот, вытащить, беркут, герой]</td>\n",
       "      <td>1.0</td>\n",
       "    </tr>\n",
       "    <tr>\n",
       "      <th>3</th>\n",
       "      <td>4</td>\n",
       "      <td>[позор, янукович, замочить, майданщик, продажн...</td>\n",
       "      <td>1.0</td>\n",
       "    </tr>\n",
       "    <tr>\n",
       "      <th>4</th>\n",
       "      <td>5</td>\n",
       "      <td>[лёгкий, обвинять, россия]</td>\n",
       "      <td>0.0</td>\n",
       "    </tr>\n",
       "    <tr>\n",
       "      <th>...</th>\n",
       "      <td>...</td>\n",
       "      <td>...</td>\n",
       "      <td>...</td>\n",
       "    </tr>\n",
       "    <tr>\n",
       "      <th>1995</th>\n",
       "      <td>1996</td>\n",
       "      <td>[такой, гоблин, пропукинский, погибать, всякий...</td>\n",
       "      <td>1.0</td>\n",
       "    </tr>\n",
       "    <tr>\n",
       "      <th>1996</th>\n",
       "      <td>1997</td>\n",
       "      <td>[беркут, навести, порядок, конец, конец, страна]</td>\n",
       "      <td>0.0</td>\n",
       "    </tr>\n",
       "    <tr>\n",
       "      <th>1997</th>\n",
       "      <td>1998</td>\n",
       "      <td>[слава, україні, герой, слава, смерть, москаль]</td>\n",
       "      <td>1.0</td>\n",
       "    </tr>\n",
       "    <tr>\n",
       "      <th>1998</th>\n",
       "      <td>1999</td>\n",
       "      <td>[бла, бла, бла, такой, хакамада, потерять, ссс...</td>\n",
       "      <td>1.0</td>\n",
       "    </tr>\n",
       "    <tr>\n",
       "      <th>1999</th>\n",
       "      <td>2000</td>\n",
       "      <td>[рахунок, олігархіть, згідний, але, їх, що, ро...</td>\n",
       "      <td>0.0</td>\n",
       "    </tr>\n",
       "  </tbody>\n",
       "</table>\n",
       "<p>1980 rows × 3 columns</p>\n",
       "</div>"
      ],
      "text/plain": [
       "        id                                               text  label\n",
       "0        1  [холодный, душа, водомёт, европидо, сто, остан...    1.0\n",
       "1        2                                    [поляк, любить]    0.0\n",
       "2        3         [автор, хуй, рот, вытащить, беркут, герой]    1.0\n",
       "3        4  [позор, янукович, замочить, майданщик, продажн...    1.0\n",
       "4        5                         [лёгкий, обвинять, россия]    0.0\n",
       "...    ...                                                ...    ...\n",
       "1995  1996  [такой, гоблин, пропукинский, погибать, всякий...    1.0\n",
       "1996  1997   [беркут, навести, порядок, конец, конец, страна]    0.0\n",
       "1997  1998    [слава, україні, герой, слава, смерть, москаль]    1.0\n",
       "1998  1999  [бла, бла, бла, такой, хакамада, потерять, ссс...    1.0\n",
       "1999  2000  [рахунок, олігархіть, згідний, але, їх, що, ро...    0.0\n",
       "\n",
       "[1980 rows x 3 columns]"
      ]
     },
     "execution_count": 74,
     "metadata": {},
     "output_type": "execute_result"
    }
   ],
   "source": [
    "df3=pd.DataFrame(columns=['id','text','label'])\n",
    "df3['text']=data\n",
    "df3['id']=df['id']\n",
    "df3['label']=df['label']\n",
    "df3=df3.dropna()\n",
    "df3"
   ]
  },
  {
   "cell_type": "code",
   "execution_count": 82,
   "metadata": {},
   "outputs": [
    {
     "data": {
      "text/plain": [
       "id       0\n",
       "text     0\n",
       "label    0\n",
       "dtype: int64"
      ]
     },
     "execution_count": 82,
     "metadata": {},
     "output_type": "execute_result"
    }
   ],
   "source": [
    "df3.isna().sum()"
   ]
  },
  {
   "cell_type": "code",
   "execution_count": 106,
   "metadata": {},
   "outputs": [
    {
     "data": {
      "text/plain": [
       "id       1980\n",
       "text     1980\n",
       "label    1980\n",
       "dtype: int64"
      ]
     },
     "execution_count": 106,
     "metadata": {},
     "output_type": "execute_result"
    }
   ],
   "source": [
    "df3.count()"
   ]
  },
  {
   "cell_type": "code",
   "execution_count": 101,
   "metadata": {},
   "outputs": [],
   "source": [
    "df4=df3.copy()"
   ]
  },
  {
   "cell_type": "code",
   "execution_count": 102,
   "metadata": {},
   "outputs": [],
   "source": [
    "from sklearn import preprocessing\n",
    "import torch\n",
    "from torch import nn"
   ]
  },
  {
   "cell_type": "code",
   "execution_count": 103,
   "metadata": {},
   "outputs": [],
   "source": [
    "le=preprocessing.LabelEncoder()"
   ]
  },
  {
   "cell_type": "code",
   "execution_count": 104,
   "metadata": {},
   "outputs": [
    {
     "name": "stderr",
     "output_type": "stream",
     "text": [
      "C:\\Users\\Admin\\AppData\\Local\\Temp\\ipykernel_4000\\1769359084.py:11: SettingWithCopyWarning: \n",
      "A value is trying to be set on a copy of a slice from a DataFrame\n",
      "\n",
      "See the caveats in the documentation: https://pandas.pydata.org/pandas-docs/stable/user_guide/indexing.html#returning-a-view-versus-a-copy\n",
      "  df4['text'][count]=all_text\n",
      "C:\\Users\\Admin\\AppData\\Local\\Temp\\ipykernel_4000\\1769359084.py:11: SettingWithCopyWarning: \n",
      "A value is trying to be set on a copy of a slice from a DataFrame\n",
      "\n",
      "See the caveats in the documentation: https://pandas.pydata.org/pandas-docs/stable/user_guide/indexing.html#returning-a-view-versus-a-copy\n",
      "  df4['text'][count]=all_text\n",
      "C:\\Users\\Admin\\AppData\\Local\\Temp\\ipykernel_4000\\1769359084.py:11: SettingWithCopyWarning: \n",
      "A value is trying to be set on a copy of a slice from a DataFrame\n",
      "\n",
      "See the caveats in the documentation: https://pandas.pydata.org/pandas-docs/stable/user_guide/indexing.html#returning-a-view-versus-a-copy\n",
      "  df4['text'][count]=all_text\n",
      "C:\\Users\\Admin\\AppData\\Local\\Temp\\ipykernel_4000\\1769359084.py:11: SettingWithCopyWarning: \n",
      "A value is trying to be set on a copy of a slice from a DataFrame\n",
      "\n",
      "See the caveats in the documentation: https://pandas.pydata.org/pandas-docs/stable/user_guide/indexing.html#returning-a-view-versus-a-copy\n",
      "  df4['text'][count]=all_text\n",
      "C:\\Users\\Admin\\AppData\\Local\\Temp\\ipykernel_4000\\1769359084.py:11: SettingWithCopyWarning: \n",
      "A value is trying to be set on a copy of a slice from a DataFrame\n",
      "\n",
      "See the caveats in the documentation: https://pandas.pydata.org/pandas-docs/stable/user_guide/indexing.html#returning-a-view-versus-a-copy\n",
      "  df4['text'][count]=all_text\n",
      "C:\\Users\\Admin\\AppData\\Local\\Temp\\ipykernel_4000\\1769359084.py:11: SettingWithCopyWarning: \n",
      "A value is trying to be set on a copy of a slice from a DataFrame\n",
      "\n",
      "See the caveats in the documentation: https://pandas.pydata.org/pandas-docs/stable/user_guide/indexing.html#returning-a-view-versus-a-copy\n",
      "  df4['text'][count]=all_text\n",
      "C:\\Users\\Admin\\AppData\\Local\\Temp\\ipykernel_4000\\1769359084.py:11: SettingWithCopyWarning: \n",
      "A value is trying to be set on a copy of a slice from a DataFrame\n",
      "\n",
      "See the caveats in the documentation: https://pandas.pydata.org/pandas-docs/stable/user_guide/indexing.html#returning-a-view-versus-a-copy\n",
      "  df4['text'][count]=all_text\n",
      "C:\\Users\\Admin\\AppData\\Local\\Temp\\ipykernel_4000\\1769359084.py:11: SettingWithCopyWarning: \n",
      "A value is trying to be set on a copy of a slice from a DataFrame\n",
      "\n",
      "See the caveats in the documentation: https://pandas.pydata.org/pandas-docs/stable/user_guide/indexing.html#returning-a-view-versus-a-copy\n",
      "  df4['text'][count]=all_text\n",
      "C:\\Users\\Admin\\AppData\\Local\\Temp\\ipykernel_4000\\1769359084.py:11: SettingWithCopyWarning: \n",
      "A value is trying to be set on a copy of a slice from a DataFrame\n",
      "\n",
      "See the caveats in the documentation: https://pandas.pydata.org/pandas-docs/stable/user_guide/indexing.html#returning-a-view-versus-a-copy\n",
      "  df4['text'][count]=all_text\n",
      "C:\\Users\\Admin\\AppData\\Local\\Temp\\ipykernel_4000\\1769359084.py:11: SettingWithCopyWarning: \n",
      "A value is trying to be set on a copy of a slice from a DataFrame\n",
      "\n",
      "See the caveats in the documentation: https://pandas.pydata.org/pandas-docs/stable/user_guide/indexing.html#returning-a-view-versus-a-copy\n",
      "  df4['text'][count]=all_text\n",
      "C:\\Users\\Admin\\AppData\\Local\\Temp\\ipykernel_4000\\1769359084.py:11: SettingWithCopyWarning: \n",
      "A value is trying to be set on a copy of a slice from a DataFrame\n",
      "\n",
      "See the caveats in the documentation: https://pandas.pydata.org/pandas-docs/stable/user_guide/indexing.html#returning-a-view-versus-a-copy\n",
      "  df4['text'][count]=all_text\n",
      "C:\\Users\\Admin\\AppData\\Local\\Temp\\ipykernel_4000\\1769359084.py:11: SettingWithCopyWarning: \n",
      "A value is trying to be set on a copy of a slice from a DataFrame\n",
      "\n",
      "See the caveats in the documentation: https://pandas.pydata.org/pandas-docs/stable/user_guide/indexing.html#returning-a-view-versus-a-copy\n",
      "  df4['text'][count]=all_text\n",
      "C:\\Users\\Admin\\AppData\\Local\\Temp\\ipykernel_4000\\1769359084.py:11: SettingWithCopyWarning: \n",
      "A value is trying to be set on a copy of a slice from a DataFrame\n",
      "\n",
      "See the caveats in the documentation: https://pandas.pydata.org/pandas-docs/stable/user_guide/indexing.html#returning-a-view-versus-a-copy\n",
      "  df4['text'][count]=all_text\n",
      "C:\\Users\\Admin\\AppData\\Local\\Temp\\ipykernel_4000\\1769359084.py:11: SettingWithCopyWarning: \n",
      "A value is trying to be set on a copy of a slice from a DataFrame\n",
      "\n",
      "See the caveats in the documentation: https://pandas.pydata.org/pandas-docs/stable/user_guide/indexing.html#returning-a-view-versus-a-copy\n",
      "  df4['text'][count]=all_text\n",
      "C:\\Users\\Admin\\AppData\\Local\\Temp\\ipykernel_4000\\1769359084.py:11: SettingWithCopyWarning: \n",
      "A value is trying to be set on a copy of a slice from a DataFrame\n",
      "\n",
      "See the caveats in the documentation: https://pandas.pydata.org/pandas-docs/stable/user_guide/indexing.html#returning-a-view-versus-a-copy\n",
      "  df4['text'][count]=all_text\n",
      "C:\\Users\\Admin\\AppData\\Local\\Temp\\ipykernel_4000\\1769359084.py:11: SettingWithCopyWarning: \n",
      "A value is trying to be set on a copy of a slice from a DataFrame\n",
      "\n",
      "See the caveats in the documentation: https://pandas.pydata.org/pandas-docs/stable/user_guide/indexing.html#returning-a-view-versus-a-copy\n",
      "  df4['text'][count]=all_text\n",
      "C:\\Users\\Admin\\AppData\\Local\\Temp\\ipykernel_4000\\1769359084.py:11: SettingWithCopyWarning: \n",
      "A value is trying to be set on a copy of a slice from a DataFrame\n",
      "\n",
      "See the caveats in the documentation: https://pandas.pydata.org/pandas-docs/stable/user_guide/indexing.html#returning-a-view-versus-a-copy\n",
      "  df4['text'][count]=all_text\n",
      "C:\\Users\\Admin\\AppData\\Local\\Temp\\ipykernel_4000\\1769359084.py:11: SettingWithCopyWarning: \n",
      "A value is trying to be set on a copy of a slice from a DataFrame\n",
      "\n",
      "See the caveats in the documentation: https://pandas.pydata.org/pandas-docs/stable/user_guide/indexing.html#returning-a-view-versus-a-copy\n",
      "  df4['text'][count]=all_text\n",
      "C:\\Users\\Admin\\AppData\\Local\\Temp\\ipykernel_4000\\1769359084.py:11: SettingWithCopyWarning: \n",
      "A value is trying to be set on a copy of a slice from a DataFrame\n",
      "\n",
      "See the caveats in the documentation: https://pandas.pydata.org/pandas-docs/stable/user_guide/indexing.html#returning-a-view-versus-a-copy\n",
      "  df4['text'][count]=all_text\n",
      "C:\\Users\\Admin\\AppData\\Local\\Temp\\ipykernel_4000\\1769359084.py:11: SettingWithCopyWarning: \n",
      "A value is trying to be set on a copy of a slice from a DataFrame\n",
      "\n",
      "See the caveats in the documentation: https://pandas.pydata.org/pandas-docs/stable/user_guide/indexing.html#returning-a-view-versus-a-copy\n",
      "  df4['text'][count]=all_text\n",
      "C:\\Users\\Admin\\AppData\\Local\\Temp\\ipykernel_4000\\1769359084.py:11: SettingWithCopyWarning: \n",
      "A value is trying to be set on a copy of a slice from a DataFrame\n",
      "\n",
      "See the caveats in the documentation: https://pandas.pydata.org/pandas-docs/stable/user_guide/indexing.html#returning-a-view-versus-a-copy\n",
      "  df4['text'][count]=all_text\n"
     ]
    },
    {
     "data": {
      "text/html": [
       "<div>\n",
       "<style scoped>\n",
       "    .dataframe tbody tr th:only-of-type {\n",
       "        vertical-align: middle;\n",
       "    }\n",
       "\n",
       "    .dataframe tbody tr th {\n",
       "        vertical-align: top;\n",
       "    }\n",
       "\n",
       "    .dataframe thead th {\n",
       "        text-align: right;\n",
       "    }\n",
       "</style>\n",
       "<table border=\"1\" class=\"dataframe\">\n",
       "  <thead>\n",
       "    <tr style=\"text-align: right;\">\n",
       "      <th></th>\n",
       "      <th>id</th>\n",
       "      <th>text</th>\n",
       "      <th>label</th>\n",
       "    </tr>\n",
       "  </thead>\n",
       "  <tbody>\n",
       "    <tr>\n",
       "      <th>0</th>\n",
       "      <td>1</td>\n",
       "      <td>холодный душа водомёт европидо сто останеться</td>\n",
       "      <td>1.0</td>\n",
       "    </tr>\n",
       "    <tr>\n",
       "      <th>1</th>\n",
       "      <td>2</td>\n",
       "      <td>поляк любить</td>\n",
       "      <td>0.0</td>\n",
       "    </tr>\n",
       "    <tr>\n",
       "      <th>2</th>\n",
       "      <td>3</td>\n",
       "      <td>автор хуй рот вытащить беркут герой</td>\n",
       "      <td>1.0</td>\n",
       "    </tr>\n",
       "    <tr>\n",
       "      <th>3</th>\n",
       "      <td>4</td>\n",
       "      <td>позор янукович замочить майданщик продажный ск...</td>\n",
       "      <td>1.0</td>\n",
       "    </tr>\n",
       "    <tr>\n",
       "      <th>4</th>\n",
       "      <td>5</td>\n",
       "      <td>лёгкий обвинять россия</td>\n",
       "      <td>0.0</td>\n",
       "    </tr>\n",
       "    <tr>\n",
       "      <th>...</th>\n",
       "      <td>...</td>\n",
       "      <td>...</td>\n",
       "      <td>...</td>\n",
       "    </tr>\n",
       "    <tr>\n",
       "      <th>1995</th>\n",
       "      <td>1996</td>\n",
       "      <td>NaN</td>\n",
       "      <td>1.0</td>\n",
       "    </tr>\n",
       "    <tr>\n",
       "      <th>1996</th>\n",
       "      <td>1997</td>\n",
       "      <td>NaN</td>\n",
       "      <td>0.0</td>\n",
       "    </tr>\n",
       "    <tr>\n",
       "      <th>1997</th>\n",
       "      <td>1998</td>\n",
       "      <td>NaN</td>\n",
       "      <td>1.0</td>\n",
       "    </tr>\n",
       "    <tr>\n",
       "      <th>1998</th>\n",
       "      <td>1999</td>\n",
       "      <td>NaN</td>\n",
       "      <td>1.0</td>\n",
       "    </tr>\n",
       "    <tr>\n",
       "      <th>1999</th>\n",
       "      <td>2000</td>\n",
       "      <td>NaN</td>\n",
       "      <td>0.0</td>\n",
       "    </tr>\n",
       "  </tbody>\n",
       "</table>\n",
       "<p>1980 rows × 3 columns</p>\n",
       "</div>"
      ],
      "text/plain": [
       "        id                                               text  label\n",
       "0        1     холодный душа водомёт европидо сто останеться     1.0\n",
       "1        2                                      поляк любить     0.0\n",
       "2        3               автор хуй рот вытащить беркут герой     1.0\n",
       "3        4  позор янукович замочить майданщик продажный ск...    1.0\n",
       "4        5                            лёгкий обвинять россия     0.0\n",
       "...    ...                                                ...    ...\n",
       "1995  1996                                                NaN    1.0\n",
       "1996  1997                                                NaN    0.0\n",
       "1997  1998                                                NaN    1.0\n",
       "1998  1999                                                NaN    1.0\n",
       "1999  2000                                                NaN    0.0\n",
       "\n",
       "[1980 rows x 3 columns]"
      ]
     },
     "execution_count": 104,
     "metadata": {},
     "output_type": "execute_result"
    }
   ],
   "source": [
    "count=0\n",
    "for el in df3['text']:\n",
    "    \n",
    "    all_text=''\n",
    "    \n",
    "    for i in el:\n",
    "        all_text = all_text+i\n",
    "        all_text= all_text+' '\n",
    "        \n",
    "\n",
    "    df4['text'][count]=all_text\n",
    "    count=count+1\n",
    "df4"
   ]
  },
  {
   "cell_type": "code",
   "execution_count": 105,
   "metadata": {},
   "outputs": [
    {
     "data": {
      "text/plain": [
       "id        0\n",
       "text     20\n",
       "label     0\n",
       "dtype: int64"
      ]
     },
     "execution_count": 105,
     "metadata": {},
     "output_type": "execute_result"
    }
   ],
   "source": [
    "df4.isna().sum()"
   ]
  },
  {
   "cell_type": "code",
   "execution_count": 90,
   "metadata": {},
   "outputs": [
    {
     "data": {
      "text/html": [
       "<div>\n",
       "<style scoped>\n",
       "    .dataframe tbody tr th:only-of-type {\n",
       "        vertical-align: middle;\n",
       "    }\n",
       "\n",
       "    .dataframe tbody tr th {\n",
       "        vertical-align: top;\n",
       "    }\n",
       "\n",
       "    .dataframe thead th {\n",
       "        text-align: right;\n",
       "    }\n",
       "</style>\n",
       "<table border=\"1\" class=\"dataframe\">\n",
       "  <thead>\n",
       "    <tr style=\"text-align: right;\">\n",
       "      <th></th>\n",
       "      <th>id</th>\n",
       "      <th>text</th>\n",
       "      <th>label</th>\n",
       "    </tr>\n",
       "  </thead>\n",
       "  <tbody>\n",
       "    <tr>\n",
       "      <th>1950</th>\n",
       "      <td>1951</td>\n",
       "      <td>наверное первый видео понравиться объяснить це...</td>\n",
       "      <td>1.0</td>\n",
       "    </tr>\n",
       "    <tr>\n",
       "      <th>1951</th>\n",
       "      <td>1952</td>\n",
       "      <td>наивный америкашка хакамада молодец идти явный...</td>\n",
       "      <td>0.0</td>\n",
       "    </tr>\n",
       "    <tr>\n",
       "      <th>1952</th>\n",
       "      <td>1953</td>\n",
       "      <td>украина европа</td>\n",
       "      <td>0.0</td>\n",
       "    </tr>\n",
       "    <tr>\n",
       "      <th>1953</th>\n",
       "      <td>1954</td>\n",
       "      <td>ленин скидывать паметник ево скидывать дума зн...</td>\n",
       "      <td>0.0</td>\n",
       "    </tr>\n",
       "    <tr>\n",
       "      <th>1954</th>\n",
       "      <td>1955</td>\n",
       "      <td>американец расстрел демонстрант совершенно нел...</td>\n",
       "      <td>0.0</td>\n",
       "    </tr>\n",
       "    <tr>\n",
       "      <th>1955</th>\n",
       "      <td>1956</td>\n",
       "      <td>восхитительно</td>\n",
       "      <td>0.0</td>\n",
       "    </tr>\n",
       "    <tr>\n",
       "      <th>1956</th>\n",
       "      <td>1957</td>\n",
       "      <td>дмитрий юриевич подтверждать слово привыкнуть ...</td>\n",
       "      <td>0.0</td>\n",
       "    </tr>\n",
       "    <tr>\n",
       "      <th>1957</th>\n",
       "      <td>1958</td>\n",
       "      <td>напомнить речь любимый гитлер истерика ненавис...</td>\n",
       "      <td>0.0</td>\n",
       "    </tr>\n",
       "    <tr>\n",
       "      <th>1958</th>\n",
       "      <td>1959</td>\n",
       "      <td>жирный свинить як скача рухалисить би</td>\n",
       "      <td>0.0</td>\n",
       "    </tr>\n",
       "    <tr>\n",
       "      <th>1959</th>\n",
       "      <td>1960</td>\n",
       "      <td>идти ка нахуй чертярый лопата будеш сука отгре...</td>\n",
       "      <td>1.0</td>\n",
       "    </tr>\n",
       "    <tr>\n",
       "      <th>1960</th>\n",
       "      <td>1961</td>\n",
       "      <td>виталий журба секция политпросвещение обком ва...</td>\n",
       "      <td>1.0</td>\n",
       "    </tr>\n",
       "    <tr>\n",
       "      <th>1961</th>\n",
       "      <td>1962</td>\n",
       "      <td>какой защитник мать ваш омон беркут первый нач...</td>\n",
       "      <td>0.0</td>\n",
       "    </tr>\n",
       "    <tr>\n",
       "      <th>1962</th>\n",
       "      <td>1963</td>\n",
       "      <td>хлопци хотеть стерпеть плохой будущее белоруси...</td>\n",
       "      <td>0.0</td>\n",
       "    </tr>\n",
       "    <tr>\n",
       "      <th>1963</th>\n",
       "      <td>1964</td>\n",
       "      <td>герой слива</td>\n",
       "      <td>1.0</td>\n",
       "    </tr>\n",
       "    <tr>\n",
       "      <th>1964</th>\n",
       "      <td>1965</td>\n",
       "      <td>грубо пустой звук последний крик умирающий бык</td>\n",
       "      <td>0.0</td>\n",
       "    </tr>\n",
       "    <tr>\n",
       "      <th>1965</th>\n",
       "      <td>1966</td>\n",
       "      <td>макс курбатов янукович шибко никто поддерживат...</td>\n",
       "      <td>0.0</td>\n",
       "    </tr>\n",
       "    <tr>\n",
       "      <th>1966</th>\n",
       "      <td>1967</td>\n",
       "      <td>улирих жуков закончить российский культура нен...</td>\n",
       "      <td>0.0</td>\n",
       "    </tr>\n",
       "    <tr>\n",
       "      <th>1967</th>\n",
       "      <td>1968</td>\n",
       "      <td>любовь шнырёв личность переходить свой уровень...</td>\n",
       "      <td>1.0</td>\n",
       "    </tr>\n",
       "    <tr>\n",
       "      <th>1968</th>\n",
       "      <td>1969</td>\n",
       "      <td>дать бог здоровье парниша душа петь</td>\n",
       "      <td>0.0</td>\n",
       "    </tr>\n",
       "    <tr>\n",
       "      <th>1969</th>\n",
       "      <td>1970</td>\n",
       "      <td>информатор единый федерация гнилопяткинский жи...</td>\n",
       "      <td>0.0</td>\n",
       "    </tr>\n",
       "    <tr>\n",
       "      <th>1970</th>\n",
       "      <td>1971</td>\n",
       "      <td>янукович ужасный который доллар порошенко раз ...</td>\n",
       "      <td>0.0</td>\n",
       "    </tr>\n",
       "    <tr>\n",
       "      <th>1971</th>\n",
       "      <td>1972</td>\n",
       "      <td>свобода хватать</td>\n",
       "      <td>1.0</td>\n",
       "    </tr>\n",
       "    <tr>\n",
       "      <th>1972</th>\n",
       "      <td>1973</td>\n",
       "      <td>татаро монгольский иго угнетать погибнуть разр...</td>\n",
       "      <td>0.0</td>\n",
       "    </tr>\n",
       "    <tr>\n",
       "      <th>1973</th>\n",
       "      <td>1974</td>\n",
       "      <td>развести пидорятник виноватый</td>\n",
       "      <td>1.0</td>\n",
       "    </tr>\n",
       "    <tr>\n",
       "      <th>1974</th>\n",
       "      <td>1975</td>\n",
       "      <td>старый жена путин вряд родить молодой гимнастк...</td>\n",
       "      <td>0.0</td>\n",
       "    </tr>\n",
       "    <tr>\n",
       "      <th>1975</th>\n",
       "      <td>1976</td>\n",
       "      <td>такой гоблин пропукинский погибать всякий мраз...</td>\n",
       "      <td>0.0</td>\n",
       "    </tr>\n",
       "    <tr>\n",
       "      <th>1976</th>\n",
       "      <td>1977</td>\n",
       "      <td>беркут навести порядок конец конец страна</td>\n",
       "      <td>0.0</td>\n",
       "    </tr>\n",
       "    <tr>\n",
       "      <th>1977</th>\n",
       "      <td>1978</td>\n",
       "      <td>слава україні герой слава смерть москаль</td>\n",
       "      <td>0.0</td>\n",
       "    </tr>\n",
       "    <tr>\n",
       "      <th>1978</th>\n",
       "      <td>1979</td>\n",
       "      <td>бла бла бла такой хакамада потерять ссср мерзк...</td>\n",
       "      <td>1.0</td>\n",
       "    </tr>\n",
       "    <tr>\n",
       "      <th>1979</th>\n",
       "      <td>1980</td>\n",
       "      <td>рахунок олігархіть згідний але їх що росії вже...</td>\n",
       "      <td>1.0</td>\n",
       "    </tr>\n",
       "    <tr>\n",
       "      <th>1980</th>\n",
       "      <td>1981</td>\n",
       "      <td>[виталий, журба, секция, политпросвещение, обк...</td>\n",
       "      <td>0.0</td>\n",
       "    </tr>\n",
       "    <tr>\n",
       "      <th>1981</th>\n",
       "      <td>1982</td>\n",
       "      <td>[какой, защитник, мать, ваш, омон, беркут, пер...</td>\n",
       "      <td>0.0</td>\n",
       "    </tr>\n",
       "    <tr>\n",
       "      <th>1982</th>\n",
       "      <td>1983</td>\n",
       "      <td>[хлопци, хотеть, стерпеть, плохой, будущее, бе...</td>\n",
       "      <td>0.0</td>\n",
       "    </tr>\n",
       "    <tr>\n",
       "      <th>1983</th>\n",
       "      <td>1984</td>\n",
       "      <td>[герой, слива]</td>\n",
       "      <td>0.0</td>\n",
       "    </tr>\n",
       "    <tr>\n",
       "      <th>1984</th>\n",
       "      <td>1985</td>\n",
       "      <td>[грубо, пустой, звук, последний, крик, умирающ...</td>\n",
       "      <td>0.0</td>\n",
       "    </tr>\n",
       "    <tr>\n",
       "      <th>1985</th>\n",
       "      <td>1986</td>\n",
       "      <td>[макс, курбатов, янукович, шибко, никто, подде...</td>\n",
       "      <td>0.0</td>\n",
       "    </tr>\n",
       "    <tr>\n",
       "      <th>1986</th>\n",
       "      <td>1987</td>\n",
       "      <td>[улирих, жуков, закончить, российский, культур...</td>\n",
       "      <td>0.0</td>\n",
       "    </tr>\n",
       "    <tr>\n",
       "      <th>1987</th>\n",
       "      <td>1988</td>\n",
       "      <td>[любовь, шнырёв, личность, переходить, свой, у...</td>\n",
       "      <td>1.0</td>\n",
       "    </tr>\n",
       "    <tr>\n",
       "      <th>1988</th>\n",
       "      <td>1989</td>\n",
       "      <td>[дать, бог, здоровье, парниша, душа, петь]</td>\n",
       "      <td>0.0</td>\n",
       "    </tr>\n",
       "    <tr>\n",
       "      <th>1989</th>\n",
       "      <td>1990</td>\n",
       "      <td>[информатор, единый, федерация, гнилопяткински...</td>\n",
       "      <td>1.0</td>\n",
       "    </tr>\n",
       "    <tr>\n",
       "      <th>1990</th>\n",
       "      <td>1991</td>\n",
       "      <td>[янукович, ужасный, который, доллар, порошенко...</td>\n",
       "      <td>0.0</td>\n",
       "    </tr>\n",
       "    <tr>\n",
       "      <th>1991</th>\n",
       "      <td>1992</td>\n",
       "      <td>[свобода, хватать]</td>\n",
       "      <td>0.0</td>\n",
       "    </tr>\n",
       "    <tr>\n",
       "      <th>1992</th>\n",
       "      <td>1993</td>\n",
       "      <td>[татаро, монгольский, иго, угнетать, погибнуть...</td>\n",
       "      <td>0.0</td>\n",
       "    </tr>\n",
       "    <tr>\n",
       "      <th>1993</th>\n",
       "      <td>1994</td>\n",
       "      <td>[развести, пидорятник, виноватый]</td>\n",
       "      <td>1.0</td>\n",
       "    </tr>\n",
       "    <tr>\n",
       "      <th>1994</th>\n",
       "      <td>1995</td>\n",
       "      <td>[старый, жена, путин, вряд, родить, молодой, г...</td>\n",
       "      <td>0.0</td>\n",
       "    </tr>\n",
       "    <tr>\n",
       "      <th>1995</th>\n",
       "      <td>1996</td>\n",
       "      <td>[такой, гоблин, пропукинский, погибать, всякий...</td>\n",
       "      <td>1.0</td>\n",
       "    </tr>\n",
       "    <tr>\n",
       "      <th>1996</th>\n",
       "      <td>1997</td>\n",
       "      <td>[беркут, навести, порядок, конец, конец, страна]</td>\n",
       "      <td>0.0</td>\n",
       "    </tr>\n",
       "    <tr>\n",
       "      <th>1997</th>\n",
       "      <td>1998</td>\n",
       "      <td>[слава, україні, герой, слава, смерть, москаль]</td>\n",
       "      <td>1.0</td>\n",
       "    </tr>\n",
       "    <tr>\n",
       "      <th>1998</th>\n",
       "      <td>1999</td>\n",
       "      <td>[бла, бла, бла, такой, хакамада, потерять, ссс...</td>\n",
       "      <td>1.0</td>\n",
       "    </tr>\n",
       "    <tr>\n",
       "      <th>1999</th>\n",
       "      <td>2000</td>\n",
       "      <td>[рахунок, олігархіть, згідний, але, їх, що, ро...</td>\n",
       "      <td>0.0</td>\n",
       "    </tr>\n",
       "  </tbody>\n",
       "</table>\n",
       "</div>"
      ],
      "text/plain": [
       "        id                                               text  label\n",
       "1950  1951  наверное первый видео понравиться объяснить це...    1.0\n",
       "1951  1952  наивный америкашка хакамада молодец идти явный...    0.0\n",
       "1952  1953                                    украина европа     0.0\n",
       "1953  1954  ленин скидывать паметник ево скидывать дума зн...    0.0\n",
       "1954  1955  американец расстрел демонстрант совершенно нел...    0.0\n",
       "1955  1956                                     восхитительно     0.0\n",
       "1956  1957  дмитрий юриевич подтверждать слово привыкнуть ...    0.0\n",
       "1957  1958  напомнить речь любимый гитлер истерика ненавис...    0.0\n",
       "1958  1959             жирный свинить як скача рухалисить би     0.0\n",
       "1959  1960  идти ка нахуй чертярый лопата будеш сука отгре...    1.0\n",
       "1960  1961  виталий журба секция политпросвещение обком ва...    1.0\n",
       "1961  1962  какой защитник мать ваш омон беркут первый нач...    0.0\n",
       "1962  1963  хлопци хотеть стерпеть плохой будущее белоруси...    0.0\n",
       "1963  1964                                       герой слива     1.0\n",
       "1964  1965    грубо пустой звук последний крик умирающий бык     0.0\n",
       "1965  1966  макс курбатов янукович шибко никто поддерживат...    0.0\n",
       "1966  1967  улирих жуков закончить российский культура нен...    0.0\n",
       "1967  1968  любовь шнырёв личность переходить свой уровень...    1.0\n",
       "1968  1969               дать бог здоровье парниша душа петь     0.0\n",
       "1969  1970  информатор единый федерация гнилопяткинский жи...    0.0\n",
       "1970  1971  янукович ужасный который доллар порошенко раз ...    0.0\n",
       "1971  1972                                   свобода хватать     1.0\n",
       "1972  1973  татаро монгольский иго угнетать погибнуть разр...    0.0\n",
       "1973  1974                     развести пидорятник виноватый     1.0\n",
       "1974  1975  старый жена путин вряд родить молодой гимнастк...    0.0\n",
       "1975  1976  такой гоблин пропукинский погибать всякий мраз...    0.0\n",
       "1976  1977         беркут навести порядок конец конец страна     0.0\n",
       "1977  1978          слава україні герой слава смерть москаль     0.0\n",
       "1978  1979  бла бла бла такой хакамада потерять ссср мерзк...    1.0\n",
       "1979  1980  рахунок олігархіть згідний але їх що росії вже...    1.0\n",
       "1980  1981  [виталий, журба, секция, политпросвещение, обк...    0.0\n",
       "1981  1982  [какой, защитник, мать, ваш, омон, беркут, пер...    0.0\n",
       "1982  1983  [хлопци, хотеть, стерпеть, плохой, будущее, бе...    0.0\n",
       "1983  1984                                     [герой, слива]    0.0\n",
       "1984  1985  [грубо, пустой, звук, последний, крик, умирающ...    0.0\n",
       "1985  1986  [макс, курбатов, янукович, шибко, никто, подде...    0.0\n",
       "1986  1987  [улирих, жуков, закончить, российский, культур...    0.0\n",
       "1987  1988  [любовь, шнырёв, личность, переходить, свой, у...    1.0\n",
       "1988  1989         [дать, бог, здоровье, парниша, душа, петь]    0.0\n",
       "1989  1990  [информатор, единый, федерация, гнилопяткински...    1.0\n",
       "1990  1991  [янукович, ужасный, который, доллар, порошенко...    0.0\n",
       "1991  1992                                 [свобода, хватать]    0.0\n",
       "1992  1993  [татаро, монгольский, иго, угнетать, погибнуть...    0.0\n",
       "1993  1994                  [развести, пидорятник, виноватый]    1.0\n",
       "1994  1995  [старый, жена, путин, вряд, родить, молодой, г...    0.0\n",
       "1995  1996  [такой, гоблин, пропукинский, погибать, всякий...    1.0\n",
       "1996  1997   [беркут, навести, порядок, конец, конец, страна]    0.0\n",
       "1997  1998    [слава, україні, герой, слава, смерть, москаль]    1.0\n",
       "1998  1999  [бла, бла, бла, такой, хакамада, потерять, ссс...    1.0\n",
       "1999  2000  [рахунок, олігархіть, згідний, але, їх, що, ро...    0.0"
      ]
     },
     "execution_count": 90,
     "metadata": {},
     "output_type": "execute_result"
    }
   ],
   "source": [
    "df4.tail(50)"
   ]
  },
  {
   "cell_type": "code",
   "execution_count": 96,
   "metadata": {},
   "outputs": [
    {
     "data": {
      "text/plain": [
       "pandas.core.series.Series"
      ]
     },
     "execution_count": 96,
     "metadata": {},
     "output_type": "execute_result"
    }
   ],
   "source": [
    "type(df4['text'])"
   ]
  },
  {
   "cell_type": "code",
   "execution_count": 107,
   "metadata": {},
   "outputs": [],
   "source": [
    "x=torch.as_tensor(le.fit_transform(df4['text']))"
   ]
  },
  {
   "cell_type": "code",
   "execution_count": 109,
   "metadata": {},
   "outputs": [],
   "source": [
    "y=torch.as_tensor(le.fit_transform(df4['label']))"
   ]
  },
  {
   "cell_type": "code",
   "execution_count": 112,
   "metadata": {},
   "outputs": [
    {
     "data": {
      "text/plain": [
       "tensor([[1762],\n",
       "        [1122],\n",
       "        [   6],\n",
       "        ...,\n",
       "        [1923],\n",
       "        [1923],\n",
       "        [1923]], dtype=torch.int32)"
      ]
     },
     "execution_count": 112,
     "metadata": {},
     "output_type": "execute_result"
    }
   ],
   "source": [
    "x.unsqueeze_(1)"
   ]
  },
  {
   "cell_type": "code",
   "execution_count": 113,
   "metadata": {},
   "outputs": [
    {
     "data": {
      "text/plain": [
       "tensor([[1],\n",
       "        [0],\n",
       "        [1],\n",
       "        ...,\n",
       "        [1],\n",
       "        [1],\n",
       "        [0]])"
      ]
     },
     "execution_count": 113,
     "metadata": {},
     "output_type": "execute_result"
    }
   ],
   "source": [
    "y.unsqueeze_(1)"
   ]
  },
  {
   "cell_type": "code",
   "execution_count": 118,
   "metadata": {},
   "outputs": [],
   "source": [
    "if torch.cuda.is_available():\n",
    "    dev=torch.device('cuda:0')\n",
    "else: dev=torch.device('cpu:0')"
   ]
  },
  {
   "cell_type": "code",
   "execution_count": 120,
   "metadata": {},
   "outputs": [
    {
     "data": {
      "text/plain": [
       "device(type='cuda', index=0)"
      ]
     },
     "execution_count": 120,
     "metadata": {},
     "output_type": "execute_result"
    }
   ],
   "source": [
    "dev"
   ]
  },
  {
   "cell_type": "code",
   "execution_count": 121,
   "metadata": {},
   "outputs": [],
   "source": [
    "x=x.to(dev)"
   ]
  },
  {
   "cell_type": "code",
   "execution_count": 122,
   "metadata": {},
   "outputs": [],
   "source": [
    "y=y.to(dev)"
   ]
  },
  {
   "cell_type": "code",
   "execution_count": null,
   "metadata": {},
   "outputs": [],
   "source": []
  }
 ],
 "metadata": {
  "colab": {
   "provenance": []
  },
  "kernelspec": {
   "display_name": "Python 3 (ipykernel)",
   "language": "python",
   "name": "python3"
  },
  "language_info": {
   "codemirror_mode": {
    "name": "ipython",
    "version": 3
   },
   "file_extension": ".py",
   "mimetype": "text/x-python",
   "name": "python",
   "nbconvert_exporter": "python",
   "pygments_lexer": "ipython3",
   "version": "3.10.9"
  }
 },
 "nbformat": 4,
 "nbformat_minor": 1
}
